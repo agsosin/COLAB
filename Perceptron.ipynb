{
  "nbformat": 4,
  "nbformat_minor": 0,
  "metadata": {
    "colab": {
      "provenance": [],
      "toc_visible": true,
      "authorship_tag": "ABX9TyOp1yHJhhJtKkRf/5TYVmS+",
      "include_colab_link": true
    },
    "kernelspec": {
      "name": "python3",
      "display_name": "Python 3"
    },
    "language_info": {
      "name": "python"
    }
  },
  "cells": [
    {
      "cell_type": "markdown",
      "metadata": {
        "id": "view-in-github",
        "colab_type": "text"
      },
      "source": [
        "<a href=\"https://colab.research.google.com/github/agsosin/COLAB/blob/main/Perceptron.ipynb\" target=\"_parent\"><img src=\"https://colab.research.google.com/assets/colab-badge.svg\" alt=\"Open In Colab\"/></a>"
      ]
    },
    {
      "cell_type": "code",
      "execution_count": null,
      "metadata": {
        "colab": {
          "base_uri": "https://localhost:8080/"
        },
        "id": "sjNZXB3njMmX",
        "outputId": "fb5796de-2a2d-4b30-dce8-200c8af8799f"
      },
      "outputs": [
        {
          "output_type": "execute_result",
          "data": {
            "text/plain": [
              "4"
            ]
          },
          "metadata": {},
          "execution_count": 13
        }
      ],
      "source": [
        "a = np.random.randint(0, 2, n)\n"
      ]
    },
    {
      "cell_type": "markdown",
      "source": [],
      "metadata": {
        "id": "Tqrwncv-jliB"
      }
    },
    {
      "cell_type": "code",
      "source": [
        "import numpy as np\n",
        "import matplotlib.pyplot as plt\n",
        "\n",
        "class Perceptron:\n",
        "    def __init__(self, n, bias=True):\n",
        "        self.w = np.random.randint(0, 2, n).astype(np.float64)\n",
        "        if bias:\n",
        "            self.b = np.random.randint(0, 2)\n",
        "        else:\n",
        "            self.b = 0\n",
        "        self.learning_curve = []\n",
        "\n",
        "    def predict(self, x):\n",
        "        net = np.dot(self.w, x) + self.b\n",
        "        if net >= 0.5:\n",
        "            return 1\n",
        "        else:\n",
        "            return 0\n",
        "\n",
        "    def train(self, xx, d, eta, tol):\n",
        "        errors = 0\n",
        "        iteration = 0\n",
        "        while errors <= tol:\n",
        "            errors = 0\n",
        "            for i in range(len(xx)):\n",
        "                x = xx[i]\n",
        "                y = self.predict(x)\n",
        "                error = d[i] - y\n",
        "                if error != 0:\n",
        "                    errors += 1\n",
        "                    self.w += eta * error * x.astype(np.float64)\n",
        "                    if self.b != 0:\n",
        "                        self.b += eta * error\n",
        "            self.learning_curve.append(errors)\n",
        "            iteration += 1\n",
        "\n",
        "    def evaluate_test(self, xx, d):\n",
        "        errors = 0\n",
        "        predictions = []\n",
        "        for i in range(len(xx)):\n",
        "            x = xx[i]\n",
        "            y = self.predict(x)\n",
        "            predictions.append(y)\n",
        "            if y != d[i]:\n",
        "                errors += 1\n",
        "        return errors, predictions\n",
        "\n",
        "    def get_state(self):\n",
        "        return self.w, self.b\n",
        "\n",
        "    def plot_learning_curve(self):\n",
        "        plt.plot(range(len(self.learning_curve)), self.learning_curve)\n",
        "        plt.xlabel('Iteration')\n",
        "        plt.ylabel('Number of Errors')\n",
        "        plt.title('Perceptron Learning Curve')\n",
        "        plt.show()"
      ],
      "metadata": {
        "id": "AFOuuAYT0-6L"
      },
      "execution_count": null,
      "outputs": []
    },
    {
      "cell_type": "code",
      "source": [
        "example = np.array([1, 1])\n",
        "perceptron = Perceptron(n=2, bias=True)\n",
        "prediction = perceptron.predict(example)\n",
        "print(perceptron.w, perceptron.b)\n",
        "print(prediction)"
      ],
      "metadata": {
        "colab": {
          "base_uri": "https://localhost:8080/"
        },
        "id": "OoTvcEdQ26jZ",
        "outputId": "c5f6c273-b2c9-4bf6-c506-5a25d7605eb5"
      },
      "execution_count": null,
      "outputs": [
        {
          "output_type": "stream",
          "name": "stdout",
          "text": [
            "[0. 1.] 0\n",
            "1\n"
          ]
        }
      ]
    },
    {
      "cell_type": "code",
      "source": [
        "plot = plt.show()\n",
        "print(plot)\n"
      ],
      "metadata": {
        "colab": {
          "base_uri": "https://localhost:8080/"
        },
        "id": "EZmhxC5x3B8h",
        "outputId": "5d9102cf-803f-440d-b49b-d95f08c47c93"
      },
      "execution_count": null,
      "outputs": [
        {
          "output_type": "stream",
          "name": "stdout",
          "text": [
            "None\n"
          ]
        }
      ]
    },
    {
      "cell_type": "code",
      "source": [
        "import numpy as np\n",
        "! sed -i 's/,/./g' 2D.csv\n",
        "data_array = np.genfromtxt('2D.csv', delimiter=';', skip_header=1);\n",
        "print(data_array)"
      ],
      "metadata": {
        "colab": {
          "base_uri": "https://localhost:8080/"
        },
        "id": "f0dsxNqS39zO",
        "outputId": "7e9253b3-c190-4474-e478-938bd7f969da"
      },
      "execution_count": null,
      "outputs": [
        {
          "output_type": "stream",
          "name": "stdout",
          "text": [
            "[[-0.03681906 -0.88526332  0.        ]\n",
            " [-0.57699767 -0.36774517  1.        ]\n",
            " [ 0.39749724 -0.41842878  0.        ]\n",
            " ...\n",
            " [ 0.45918884  0.99645584  1.        ]\n",
            " [ 0.99417126  0.14451768  0.        ]\n",
            " [-0.9422161  -0.93157278  1.        ]]\n"
          ]
        }
      ]
    },
    {
      "cell_type": "code",
      "source": [
        "# prompt: two columns from data_array are inputs for class perceptron in earlier  code (two arguments in arrray). Last column is expected output. Initiate perceptron and show the learning curve. Do it for 80% of data\n",
        "\n",
        "# Assuming data_array is already loaded as in the previous code\n",
        "\n",
        "# Split data into training and testing sets (80% train, 20% test)\n",
        "train_size = int(0.8 * len(data_array))\n",
        "train_data = data_array[:train_size, :]\n",
        "test_data = data_array[train_size:, :]\n",
        "\n",
        "# Separate inputs (first two columns) and outputs (last column)\n",
        "X_train = train_data[:, :2]\n",
        "y_train = train_data[:, 2].astype(int)  # Ensure output is integer\n",
        "X_test = test_data[:, :2]\n",
        "y_test = test_data[:, 2].astype(int)\n",
        "\n",
        "# Initialize and train the perceptron\n",
        "perceptron = Perceptron(n=2)  # n=2 because of two input features\n",
        "perceptron.train(X_train, y_train, eta=0.1, tol=100)\n",
        "\n",
        "# Plot the learning curve\n",
        "perceptron.plot_learning_curve()\n",
        "\n",
        "# Evaluate the perceptron on the test set\n",
        "errors, predictions = perceptron.evaluate_test(X_test, y_test)\n",
        "print(f\"Test errors: {errors}\")\n",
        "print(f\"Test predictions: {predictions}\")"
      ],
      "metadata": {
        "id": "nDkZScOX77db"
      },
      "execution_count": null,
      "outputs": []
    }
  ]
}