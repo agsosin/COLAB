{
  "cells": [
    {
      "cell_type": "markdown",
      "metadata": {
        "id": "DBXxErK07vQA"
      },
      "source": [
        "<center>\n",
        "    <font size=\"5\"> Zaawansowane Metody Sztucznej Inteligencji<br/>\n",
        "        <small><em>Studia niestacjonarne II stopnia 2024/2025</em><br/>Kierunek: Informatyka<br>\n",
        "    </font>\n",
        "</center>\n",
        "<br>\n",
        "\n"
      ]
    },
    {
      "cell_type": "markdown",
      "metadata": {
        "id": "gWaTBVeDKX_7"
      },
      "source": [
        "# Laboratorium nr 6: Sieć Hopfielda\n",
        "zapoznaj się z treścią artykułu:\n",
        "\n",
        "Radosław Marusik: <i>Metody uczenia sieci neuronowej Hopfielda</i>"
      ]
    },
    {
      "cell_type": "markdown",
      "metadata": {
        "id": "80MLD8g9BLgo"
      },
      "source": [
        "## Import bibliotek"
      ]
    },
    {
      "cell_type": "code",
      "execution_count": null,
      "metadata": {
        "id": "Nch5dQKB6gPb",
        "vscode": {
          "languageId": "python"
        }
      },
      "outputs": [],
      "source": [
        "import numpy as np\n",
        "import matplotlib.pyplot as plt\n",
        "import tensorflow as tf\n",
        "import matplotlib.pyplot as plt\n",
        "print('Numpy version:', np.__version__)\n",
        "print('Tensorflow version:', tf.__version__)"
      ]
    },
    {
      "cell_type": "markdown",
      "metadata": {
        "id": "r_3efa9pLghG"
      },
      "source": [
        "## Sieć Hopfielda\n",
        "Zaimplementuj architekturę sieci Hopfielda wraz z algorytmem pseudoinwersji dla ustalania wartości wag (bazując na załączonym artykule).\n"
      ]
    },
    {
      "cell_type": "code",
      "execution_count": null,
      "metadata": {
        "id": "9gSVhfLrL8A_"
      },
      "outputs": [],
      "source": [
        "class Hopfield():\n",
        "    def __init__(self, n):\n",
        "        #inicjalizacja wag\n",
        "        self.n = n\n",
        "        self.W = np.zeros((n,n))\n",
        "\n",
        "    def predict(self, x, maxiter=10000, maxiter2=100):\n",
        "        self.iter = 0\n",
        "        y = x.copy()\n",
        "        for j in range(maxiter):\n",
        "            for i in range(self.n):\n",
        "                xp = y.copy()\n",
        "                self.iter+=1\n",
        "                y[i] = np.sign(np.dot(self.W[i], y))\n",
        "            if np.all(y == xp):\n",
        "                break\n",
        "        return y\n",
        "\n",
        "    def train_pseudo_inv(self, X):\n",
        "        # adaptacja wag metodą pseudo inwersji\n",
        "        for x in X:\n",
        "            x = x.reshape((1,-1))\n",
        "            #####################################################\n",
        "            #uzupełnij formułę iteracyjną z artykułu\n",
        "            self.W += #TODO\n",
        "            #####################################################\n"
      ]
    },
    {
      "cell_type": "markdown",
      "metadata": {
        "id": "L0V4MM9LcfBG"
      },
      "source": [
        "## Przygotowanie danych uczących (wzorców).\n",
        "Uzupełnij"
      ]
    },
    {
      "cell_type": "code",
      "execution_count": null,
      "metadata": {
        "id": "QSR-FMdH8VTk"
      },
      "outputs": [],
      "source": [
        "# cyfry 5x7 pikseli, pattern data to słownik postaci: {\"0\":[numpy array],\"1\":[]....}\n",
        "pattern_data = #TODO"
      ]
    },
    {
      "cell_type": "code",
      "execution_count": null,
      "metadata": {
        "id": "2oViNUjVd8ka"
      },
      "outputs": [],
      "source": [
        "def plot_images(images, no_r=2, no_c=5, figsize=(4,4)):\n",
        "    fig = plt.figure(figsize=figsize)\n",
        "    images = np.array(images).reshape(-1, 7, 5)\n",
        "    for i in range(no_r):\n",
        "        for j in range(no_c):\n",
        "            ax = fig.add_subplot(no_r, no_c, no_c * i + (j + 1))\n",
        "            ax.matshow(1-images[no_c * i + j], cmap=\"gray\")\n",
        "            plt.xticks(np.array([]))\n",
        "            plt.yticks(np.array([]))"
      ]
    },
    {
      "cell_type": "code",
      "execution_count": null,
      "metadata": {
        "id": "ijqQK0HcfHYd"
      },
      "outputs": [],
      "source": [
        "train_data = [np.array(d) for d in pattern_data.values()]\n",
        "plot_images(train_data, no_r=2, no_c=5)\n",
        "# plt.imshow(np.array(train_data)[0].reshape(7, 5))"
      ]
    },
    {
      "cell_type": "markdown",
      "metadata": {
        "id": "GvwTvcNHgS0t"
      },
      "source": [
        "## Trenowanie\n",
        "Utwórz instancje sieci Hipfielda i wytrenuj każdą z nich inną metodą adaptacji wag."
      ]
    },
    {
      "cell_type": "code",
      "execution_count": null,
      "metadata": {
        "id": "IwT1EQaJfOFA"
      },
      "outputs": [],
      "source": [
        "hop = Hopfield(35)"
      ]
    },
    {
      "cell_type": "code",
      "execution_count": null,
      "metadata": {
        "id": "dn63C_rZJ2Gx"
      },
      "outputs": [],
      "source": [
        "hop.W"
      ]
    },
    {
      "cell_type": "code",
      "execution_count": null,
      "metadata": {
        "id": "wx6JkMQtJ5Sw"
      },
      "outputs": [],
      "source": [
        "train_data2 = np.array(train_data)\n",
        "#zera zmieniane na -1, lepiej się wtedy działa\n",
        "train_data2 = np.where(train_data2==0, -1, train_data2)\n",
        "train_data2.shape"
      ]
    },
    {
      "cell_type": "code",
      "execution_count": null,
      "metadata": {
        "id": "DnMk0zyE3U8U"
      },
      "outputs": [],
      "source": [
        "hop.train_pseudo_inv(train_data2)"
      ]
    },
    {
      "cell_type": "code",
      "execution_count": null,
      "metadata": {
        "id": "vygR_I3wKPbQ"
      },
      "outputs": [],
      "source": [
        "hop.W"
      ]
    },
    {
      "cell_type": "markdown",
      "metadata": {
        "id": "3YnuD1lCghB9"
      },
      "source": [
        "## Testowanie\n",
        "Przygotuj przykłady testowe (np. takie jak w pdf'ie) i zaprezentuj wyniki."
      ]
    },
    {
      "cell_type": "code",
      "execution_count": null,
      "metadata": {
        "id": "DVlQaPBhgrIo"
      },
      "outputs": [],
      "source": [
        "test = np.array([[#TODO]])"
      ]
    },
    {
      "cell_type": "code",
      "execution_count": null,
      "metadata": {
        "id": "kGzYT0aPeSMe"
      },
      "outputs": [],
      "source": [
        "fig = plt.figure(figsize=(4,5))\n",
        "ax = fig.add_subplot(1, 1, 1)\n",
        "ax.matshow(1-test[0].reshape(7, 5), cmap=\"gray\")\n",
        "plt.xticks(np.array([]))\n",
        "plt.yticks(np.array([]))"
      ]
    },
    {
      "cell_type": "code",
      "execution_count": null,
      "metadata": {
        "id": "wzLP_nEZLcX9"
      },
      "outputs": [],
      "source": [
        "y = hop.predict(np.where(test[0]==0, -1, test[0]))\n",
        "y"
      ]
    },
    {
      "cell_type": "code",
      "execution_count": null,
      "metadata": {
        "id": "y-BnL9heL2Qv"
      },
      "outputs": [],
      "source": [
        "fig = plt.figure(figsize=(4,5))\n",
        "ax = fig.add_subplot(1, 1, 1)\n",
        "ax.matshow(1-np.where(y.reshape(7, 5)==-1,0,1), cmap=\"gray\")\n",
        "plt.xticks(np.array([]))\n",
        "plt.yticks(np.array([]))"
      ]
    },
    {
      "cell_type": "markdown",
      "metadata": {
        "id": "UVxdzaTZgsy-"
      },
      "source": [
        "## Odszumianie danych\n",
        "Przygotuj kod zaszumiający wzorce uczące, mutacja piksela z ustalonym prawdopodobieństwem. Przeprowadź eksperymenty pokazujące zdolność sieci Hopfielda od odszumiania danych.\n"
      ]
    },
    {
      "cell_type": "code",
      "execution_count": null,
      "metadata": {
        "id": "BRzML3PlhT3B"
      },
      "outputs": [],
      "source": [
        "#TODO"
      ]
    },
    {
      "cell_type": "markdown",
      "metadata": {
        "id": "lm6VrDA_x3ZK"
      },
      "source": [
        "##implementacja sieci Hopfielda obejmuje kilka kluczowych elementów:\n",
        "\n",
        "pseudoinverse_learning(): Metoda uczenia sieci wykorzystująca algorytm pseudoinwersji do ustalania wartości wag. Kluczowe kroki:\n",
        "\n",
        "Normalizacja wzorców do wartości {-1, 1}\n",
        "Obliczenie macierzy pseudoodwrotnej Moore'a-Penrose'a\n",
        "Wyzerowanie diagonali wag (brak połączeń neuronów ze sobą)\n",
        "\n",
        "update_synchroniczny(): Równoczesna aktualizacja wszystkich neuronów\n",
        "\n",
        "Przygotuj klasę relizującą sieć Hopfielda wykorzystując dowolny LLM.\n"
      ]
    },
    {
      "cell_type": "code",
      "source": [
        "class HopfieldNetwork:\n",
        "    def __init__(self, n_neurons):\n",
        "        self.n_neurons = n_neurons\n",
        "        self.weights = np.zeros((n_neurons, n_neurons))\n",
        "\n",
        "    def pseudoinverse_learning(self, patterns):\n",
        "        \"\"\"\n",
        "        Metoda uczenia z użyciem pseudoinwersji\n",
        "\n",
        "        Args:\n",
        "            patterns (np.ndarray): Wzorce treningowe\n",
        "        \"\"\"\n",
        "\n",
        "\n",
        "        # Transpozycja wzorców przed pseudoinwersją\n",
        "        # TODO\n",
        "\n",
        "        # Obliczenie pseudoinwersji\n",
        "         # TODO\n",
        "\n",
        "        # Obliczenie wag\n",
        "         # TODO\n",
        "\n",
        "        # Wyzerowanie diagonali (brak połączeń neuronów ze sobą)\n",
        "         # TODO\n",
        "\n",
        "    def update_synchroniczny(self, stan_poczatkowy, max_iteracji=10):\n",
        "        \"\"\"Synchroniczna rekonstrukcja wzorca\"\"\"\n",
        "        stan = stan_poczatkowy.copy()\n",
        "\n",
        "        for _ in range(max_iteracji):\n",
        "            stan_poprzedni = stan.copy()\n",
        "            potencjaly = np.dot(stan, self.weights)\n",
        "            stan = np.where(potencjaly >= 0, 1, -1)\n",
        "\n",
        "            if np.array_equal(stan, stan_poprzedni):\n",
        "                break\n",
        "\n",
        "        return stan"
      ],
      "metadata": {
        "id": "-AxzbUwnyQAg"
      },
      "execution_count": null,
      "outputs": []
    },
    {
      "cell_type": "code",
      "execution_count": null,
      "metadata": {
        "id": "ncE4POqCmBJ5"
      },
      "outputs": [],
      "source": [
        "def prepare_digit_patterns(pattern_data):\n",
        "    \"\"\"Przygotowanie wzorców cyfr\"\"\"\n",
        "    patterns = []\n",
        "    labels = []\n",
        "\n",
        "    for digit, pattern in pattern_data.items():\n",
        "        # Zamiana {0,1} na {-1,1}\n",
        "        converted_pattern = np.where(np.array(pattern) > 0, 1, -1)\n",
        "        patterns.append(converted_pattern)\n",
        "        labels.append(digit)\n",
        "\n",
        "    return np.array(patterns), labels"
      ]
    },
    {
      "cell_type": "code",
      "execution_count": null,
      "metadata": {
        "id": "LHFg4JNfmBJ5"
      },
      "outputs": [],
      "source": [
        "# Przygotowanie wzorców\n",
        "patterns, labels = prepare_digit_patterns(pattern_data)\n",
        "\n",
        "# Inicjalizacja sieci\n",
        "network = HopfieldNetwork(len(patterns[0]))\n",
        "\n",
        "# Uczenie sieci\n",
        "network.pseudoinverse_learning(patterns)"
      ]
    },
    {
      "cell_type": "code",
      "source": [
        "import numpy as np\n",
        "import matplotlib.pyplot as plt\n",
        "\n",
        "def visualize_row(patterns, titles, rows=7, cols=5):\n",
        "    \"\"\"\n",
        "    Wyświetla wzorce w jednej linii (rząd) z podpisami.\n",
        "    :param patterns: Lista wzorców do wizualizacji.\n",
        "    :param titles: Lista tytułów dla każdego wzorca.\n",
        "    :param rows: Liczba wierszy w pojedynczym wzorcu.\n",
        "    :param cols: Liczba kolumn w pojedynczym wzorcu.\n",
        "    \"\"\"\n",
        "    num_patterns = len(patterns)\n",
        "    fig, axes = plt.subplots(1, num_patterns, figsize=(num_patterns * 3, 3))\n",
        "\n",
        "    if num_patterns == 1:\n",
        "        axes = [axes]  # Obsługa przypadku pojedynczego obrazu\n",
        "\n",
        "    for i, (pattern, title) in enumerate(zip(patterns, titles)):\n",
        "        pattern_display = pattern.reshape(rows, cols)\n",
        "        axes[i].imshow(pattern_display, cmap='binary')\n",
        "        axes[i].set_title(title, fontsize=10)\n",
        "        axes[i].axis(\"off\")\n",
        "\n",
        "    plt.tight_layout()\n",
        "    plt.show()\n",
        "\n",
        "# Testowanie sieci Hopfielda dla cyfr\n",
        "print(\"Testowanie sieci Hopfielda dla cyfr:\")\n",
        "\n",
        "for i, (pattern, label) in enumerate(zip(patterns, labels)):\n",
        "    # Dodanie małego szumu\n",
        "    noisy_pattern = pattern.copy()\n",
        "    num_noise = len(pattern) // 10  # Zaszumienie 10% neuronów\n",
        "    noise_indices = np.random.choice(len(pattern), num_noise, replace=False)\n",
        "    noisy_pattern[noise_indices] *= -1\n",
        "\n",
        "    # Rekonstrukcja\n",
        "    reconstructed = network.update_synchroniczny(noisy_pattern)\n",
        "\n",
        "    # Wizualizacja trzech obrazów w jednym rzędzie\n",
        "    visualize_row(\n",
        "        [pattern, noisy_pattern, reconstructed],\n",
        "        [f'Oryginalny {label}', f'Zaszumiony {label}', f'Rekonstrukcja {label}'],\n",
        "        rows=7, cols=5\n",
        "    )\n",
        "\n",
        "    # Porównanie podobieństwa\n",
        "    similarity = np.mean(reconstructed == pattern)\n",
        "    print(f\"Cyfra {label}: Podobieństwo rekonstrukcji = {similarity*100:.2f}%\")\n",
        "    print(\"-\" * 40)\n"
      ],
      "metadata": {
        "id": "81sitnEYwD57"
      },
      "execution_count": null,
      "outputs": []
    }
  ],
  "metadata": {
    "colab": {
      "provenance": []
    },
    "kernelspec": {
      "display_name": "Python 3",
      "language": "python",
      "name": "python3"
    },
    "language_info": {
      "codemirror_mode": {
        "name": "ipython",
        "version": 3
      },
      "file_extension": ".py",
      "mimetype": "text/x-python",
      "name": "python",
      "nbconvert_exporter": "python",
      "pygments_lexer": "ipython3",
      "version": "3.8.10"
    }
  },
  "nbformat": 4,
  "nbformat_minor": 0
}