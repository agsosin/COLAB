{
  "cells": [
    {
      "cell_type": "markdown",
      "metadata": {
        "id": "DBXxErK07vQA"
      },
      "source": [
        "<center>\n",
        "    <font size=\"5\"> Zaawansowane Metody Sztucznej Inteligencji<br/>\n",
        "        <small><em>Studia niestacjonarne II stopnia 2024/2025</em><br/>Kierunek: Informatyka<br>\n",
        "    </font>\n",
        "</center>\n",
        "<br>\n",
        "\n"
      ]
    },
    {
      "cell_type": "markdown",
      "metadata": {
        "id": "gWaTBVeDKX_7"
      },
      "source": [
        "# Laboratorium nr 6: Sieć Hopfielda\n",
        "zapoznaj się z treścią artykułu:\n",
        "\n",
        "Radosław Marusik: <i>Metody uczenia sieci neuronowej Hopfielda</i>"
      ]
    },
    {
      "cell_type": "markdown",
      "metadata": {
        "id": "80MLD8g9BLgo"
      },
      "source": [
        "## Import bibliotek"
      ]
    },
    {
      "cell_type": "code",
      "execution_count": 5,
      "metadata": {
        "id": "Nch5dQKB6gPb",
        "vscode": {
          "languageId": "python"
        },
        "outputId": "a8bdb2dc-7902-4312-9c61-4b63cae24de7",
        "colab": {
          "base_uri": "https://localhost:8080/"
        }
      },
      "outputs": [
        {
          "output_type": "stream",
          "name": "stdout",
          "text": [
            "Numpy version: 1.26.4\n",
            "Tensorflow version: 2.17.1\n"
          ]
        }
      ],
      "source": [
        "import numpy as np\n",
        "import matplotlib.pyplot as plt\n",
        "import tensorflow as tf\n",
        "import matplotlib.pyplot as plt\n",
        "print('Numpy version:', np.__version__)\n",
        "print('Tensorflow version:', tf.__version__)"
      ]
    },
    {
      "cell_type": "markdown",
      "metadata": {
        "id": "r_3efa9pLghG"
      },
      "source": [
        "## Sieć Hopfielda\n",
        "Zaimplementuj architekturę sieci Hopfielda wraz z algorytmem pseudoinwersji dla ustalania wartości wag (bazując na załączonym artykule).\n"
      ]
    },
    {
      "cell_type": "code",
      "execution_count": 59,
      "metadata": {
        "id": "9gSVhfLrL8A_",
        "outputId": "7ca758e9-4a2e-4a34-daf9-51930632826b",
        "colab": {
          "base_uri": "https://localhost:8080/"
        }
      },
      "outputs": [
        {
          "output_type": "stream",
          "name": "stdout",
          "text": [
            "Numpy version: 1.26.4\n",
            "Tensorflow version: 2.17.1\n"
          ]
        }
      ],
      "source": [
        "import numpy as np\n",
        "\n",
        "class Hopfield():\n",
        "    def __init__(self, n):\n",
        "        # Inicjalizacja wag\n",
        "        self.n = n\n",
        "        self.W = np.zeros((n, n))\n",
        "\n",
        "    def predict(self, x, maxiter=10000):\n",
        "        # Funkcja predykcji stanów sieci\n",
        "        self.iter = 0\n",
        "        y = x.copy()\n",
        "        for j in range(maxiter):\n",
        "            xp = y.copy()\n",
        "            for i in range(self.n):\n",
        "                self.iter += 1\n",
        "                y[i] = np.sign(np.dot(self.W[i], y))\n",
        "            if np.all(y == xp):  # Jeśli osiągnięto stabilny stan\n",
        "                break\n",
        "        return y\n",
        "\n",
        "    def train_pseudo_inv(self, X):\n",
        "        # Adaptacja wag metodą pseudoinwersji\n",
        "        X = np.array(X)  # Przekształć dane wejściowe w macierz\n",
        "        if len(X.shape) == 1:  # Jeśli X jest pojedynczym wektorem\n",
        "            X = X.reshape(1, -1)\n",
        "\n",
        "        #####################################################\n",
        "        # UZUPEŁNIENIE TUTAJ (#TODO)\n",
        "        # Zastosowanie formuły pseudoinwersji:\n",
        "        X_pinv = np.linalg.pinv(X.T @ X) @ X.T  # Pseudoinwersja: (X^T X)^(-1) X^T\n",
        "        self.W = X.T @ X_pinv  # W = X * (X^T X)^(-1) * X^T\n",
        "        #####################################################\n",
        "\n",
        "        np.fill_diagonal(self.W, 0)  # Zerowanie przekątnej\n",
        "\n",
        "    def train_iterative(self, X):\n",
        "        # Adaptacja wag metodą iteracyjną (wzór z artykułu)\n",
        "        X = np.array(X)\n",
        "        if len(X.shape) == 1:\n",
        "            X = X.reshape(1, -1)\n",
        "\n",
        "        for x in X:\n",
        "            x = x.reshape(-1, 1)  # Przekształć wektor w kolumnę\n",
        "\n",
        "            #####################################################\n",
        "            # UZUPEŁNIENIE TUTAJ (#TODO)\n",
        "            # Wzór iteracyjny do aktualizacji wag:\n",
        "            delta = self.W @ x - x  # Wyliczenie różnicy (W*x - x)\n",
        "            numerator = delta @ delta.T  # Licznik: (delta * delta^T)\n",
        "            denominator = x.T @ x - x.T @ self.W @ x  # Mianownik\n",
        "            if np.abs(denominator) < 1e-10:  # Unikanie dzielenia przez 0\n",
        "                continue  # Pomijamy tę iterację\n",
        "            self.W += numerator / denominator  # Aktualizacja wag\n",
        "            #####################################################\n",
        "\n",
        "        np.fill_diagonal(self.W, 0)  # Zerowanie przekątnej\n"
      ]
    },
    {
      "cell_type": "code",
      "source": [
        "import numpy as np\n",
        "import matplotlib.pyplot as plt\n",
        "import tensorflow as tf\n",
        "import matplotlib.pyplot as plt\n",
        "print('Numpy version:', np.__version__)\n",
        "print('Tensorflow version:', tf.__version__)\n",
        "class Hopfield():\n",
        "    def __init__(self, n):\n",
        "        #inicjalizacja wag\n",
        "        self.n = n\n",
        "        self.W = np.zeros((n,n))\n",
        "\n",
        "    def predict(self, x, maxiter=10000, maxiter2=100):\n",
        "        self.iter = 0\n",
        "        y = x.copy()\n",
        "        for j in range(maxiter):\n",
        "            for i in range(self.n):\n",
        "                xp = y.copy()\n",
        "                self.iter+=1\n",
        "                y[i] = np.sign(np.dot(self.W[i], y))\n",
        "            if np.all(y == xp):\n",
        "                break\n",
        "        return y\n",
        "\n",
        "    def train_pseudo_inv(self, X):\n",
        "        # adaptacja wag metodą pseudo inwersji\n",
        "        for x in X:\n",
        "            x = x.reshape((1,-1))\n",
        "            #####################################################\n",
        "            #uzupełnij formułę iteracyjną z artykułu\n",
        "            self.W += (((self.W @ x.T) - x.T) @ ((self.W @ x.T)-x.T).T)/((x @ x.T) - (x @ (self.W @ x.T)))#TODO"
      ],
      "metadata": {
        "id": "3wPtqo7e3v2N",
        "outputId": "48fbfd92-f459-4e8b-d745-6bbabb8fb9dc",
        "colab": {
          "base_uri": "https://localhost:8080/"
        }
      },
      "execution_count": 116,
      "outputs": [
        {
          "output_type": "stream",
          "name": "stdout",
          "text": [
            "Numpy version: 1.26.4\n",
            "Tensorflow version: 2.17.1\n"
          ]
        }
      ]
    },
    {
      "cell_type": "markdown",
      "source": [
        "Zastosowanie:\n",
        "\n",
        "Kod 1 typowo znajduje zastosowanie, gdy\n",
        "𝑊\n",
        "W ma być wyliczone raz dla pełnego zbioru danych.\n",
        "Kod 2 jest stosowany w algorytmach iteracyjnych lub online learning, gdzie\n",
        "𝑊\n",
        "W jest aktualizowane na bieżąco przy napływie nowych danych.\n",
        "\n",
        "Jest jeszcze taka opcja:\n",
        "Wx = self.W @ x\n",
        "self.W += np.outer(Wx - x, Wx - x) / (x.T @ x - x.T @ Wx)\n"
      ],
      "metadata": {
        "id": "r5gQvU7_5Vsl"
      }
    },
    {
      "cell_type": "markdown",
      "metadata": {
        "id": "L0V4MM9LcfBG"
      },
      "source": [
        "## Przygotowanie danych uczących (wzorców).\n",
        "Uzupełnij"
      ]
    },
    {
      "cell_type": "code",
      "execution_count": 76,
      "metadata": {
        "id": "QSR-FMdH8VTk",
        "outputId": "292c6776-2335-4eb2-aab3-440ded3498e6",
        "colab": {
          "base_uri": "https://localhost:8080/",
          "height": 106
        }
      },
      "outputs": [
        {
          "output_type": "error",
          "ename": "SyntaxError",
          "evalue": "invalid syntax (<ipython-input-76-f251fdf01106>, line 2)",
          "traceback": [
            "\u001b[0;36m  File \u001b[0;32m\"<ipython-input-76-f251fdf01106>\"\u001b[0;36m, line \u001b[0;32m2\u001b[0m\n\u001b[0;31m    pattern_data = #TODO\u001b[0m\n\u001b[0m                   ^\u001b[0m\n\u001b[0;31mSyntaxError\u001b[0m\u001b[0;31m:\u001b[0m invalid syntax\n"
          ]
        }
      ],
      "source": [
        "# cyfry 5x7 pikseli, pattern data to słownik postaci: {\"0\":[numpy array],\"1\":[]....}\n",
        "pattern_data = #TODO"
      ]
    },
    {
      "cell_type": "code",
      "source": [
        "# prompt: wygeneruj pattern_data dla powyższego kodu. założenia: cyfry 5x7 pikseli, pattern data to słownik postaci: {\"0\":[numpy array],\"1\":[]....}.\n",
        "\n",
        "pattern_data = {\n",
        "    \"0\": np.array([\n",
        "        [1, 1, 1, 1, 1],\n",
        "        [1, 0, 0, 0, 1],\n",
        "        [1, 0, 0, 0, 1],\n",
        "        [1, 0, 0, 0, 1],\n",
        "        [1, 0, 0, 0, 1],\n",
        "        [1, 0, 0, 0, 1],\n",
        "        [1, 1, 1, 1, 1]\n",
        "    ]),\n",
        "    \"1\": np.array([\n",
        "        [0, 0, 1, 0, 0],\n",
        "        [0, 1, 1, 0, 0],\n",
        "        [0, 0, 1, 0, 0],\n",
        "        [0, 0, 1, 0, 0],\n",
        "        [0, 0, 1, 0, 0],\n",
        "        [0, 0, 1, 0, 0],\n",
        "        [0, 1, 1, 1, 0]\n",
        "    ]),\n",
        "    \"2\": np.array([\n",
        "        [1, 1, 1, 1, 1],\n",
        "        [0, 0, 0, 0, 1],\n",
        "        [0, 0, 0, 1, 0],\n",
        "        [0, 0, 1, 0, 0],\n",
        "        [0, 1, 0, 0, 0],\n",
        "        [0, 1, 0, 0, 0],\n",
        "        [1, 1, 1, 1, 1]\n",
        "    ]),\n",
        "    \"3\": np.array([\n",
        "        [1, 1, 1, 1, 1],\n",
        "        [0, 0, 0, 0, 1],\n",
        "        [0, 0, 0, 1, 0],\n",
        "        [1, 1, 1, 1, 1],\n",
        "        [0, 0, 0, 0, 1],\n",
        "        [0, 0, 0, 0, 1],\n",
        "        [1, 1, 1, 1, 1]\n",
        "    ]),\n",
        "    \"4\": np.array([\n",
        "        [1, 0, 0, 0, 1],\n",
        "        [1, 0, 0, 0, 1],\n",
        "        [1, 0, 0, 0, 1],\n",
        "        [1, 1, 1, 1, 1],\n",
        "        [0, 0, 0, 0, 1],\n",
        "        [0, 0, 0, 0, 1],\n",
        "        [0, 0, 0, 0, 1]\n",
        "    ]),\n",
        "    \"5\": np.array([\n",
        "        [1, 1, 1, 1, 1],\n",
        "        [1, 0, 0, 0, 0],\n",
        "        [1, 1, 1, 1, 1],\n",
        "        [0, 0, 0, 0, 1],\n",
        "        [0, 0, 0, 0, 1],\n",
        "        [0, 0, 0, 0, 1],\n",
        "        [1, 1, 1, 1, 1]\n",
        "    ]),\n",
        "    \"6\": np.array([\n",
        "        [1, 1, 1, 1, 1],\n",
        "        [1, 0, 0, 0, 0],\n",
        "        [1, 1, 1, 1, 1],\n",
        "        [1, 0, 0, 0, 1],\n",
        "        [1, 0, 0, 0, 1],\n",
        "        [1, 0, 0, 0, 1],\n",
        "        [1, 1, 1, 1, 1]\n",
        "    ]),\n",
        "    \"7\": np.array([\n",
        "        [1, 1, 1, 1, 1],\n",
        "        [0, 0, 0, 0, 1],\n",
        "        [0, 0, 0, 1, 0],\n",
        "        [0, 0, 1, 0, 0],\n",
        "        [0, 0, 1, 0, 0],\n",
        "        [0, 0, 1, 0, 0],\n",
        "        [0, 0, 1, 0, 0]\n",
        "    ]),\n",
        "    \"8\": np.array([\n",
        "        [1, 1, 1, 1, 1],\n",
        "        [1, 0, 0, 0, 1],\n",
        "        [1, 1, 1, 1, 1],\n",
        "        [1, 0, 0, 0, 1],\n",
        "        [1, 0, 0, 0, 1],\n",
        "        [1, 0, 0, 0, 1],\n",
        "        [1, 1, 1, 1, 1]\n",
        "    ]),\n",
        "    \"9\": np.array([\n",
        "        [1, 1, 1, 1, 1],\n",
        "        [1, 0, 0, 0, 1],\n",
        "        [1, 0, 0, 0, 1],\n",
        "        [1, 1, 1, 1, 1],\n",
        "        [0, 0, 0, 0, 1],\n",
        "        [0, 0, 0, 0, 1],\n",
        "        [1, 1, 1, 1, 1]\n",
        "    ])\n",
        "}"
      ],
      "metadata": {
        "id": "hx6l7AKW7E2S"
      },
      "execution_count": 117,
      "outputs": []
    },
    {
      "cell_type": "code",
      "execution_count": 118,
      "metadata": {
        "id": "2oViNUjVd8ka"
      },
      "outputs": [],
      "source": [
        "def plot_images(images, no_r=2, no_c=5, figsize=(4,4)):\n",
        "    fig = plt.figure(figsize=figsize)\n",
        "    images = np.array(images).reshape(-1, 7, 5)\n",
        "    for i in range(no_r):\n",
        "        for j in range(no_c):\n",
        "            ax = fig.add_subplot(no_r, no_c, no_c * i + (j + 1))\n",
        "            ax.matshow(1-images[no_c * i + j], cmap=\"gray\")\n",
        "            plt.xticks(np.array([]))\n",
        "            plt.yticks(np.array([]))\n",
        "    plt.show"
      ]
    },
    {
      "cell_type": "code",
      "execution_count": 119,
      "metadata": {
        "id": "ijqQK0HcfHYd",
        "outputId": "96b9c6ca-62ad-4e2d-ecd4-667a05590b13",
        "colab": {
          "base_uri": "https://localhost:8080/",
          "height": 279
        }
      },
      "outputs": [
        {
          "output_type": "display_data",
          "data": {
            "text/plain": [
              "<Figure size 400x400 with 10 Axes>"
            ],
            "image/png": "[encoded data removed]"
          },
          "metadata": {}
        }
      ],
      "source": [
        "train_data = [np.array(d) for d in pattern_data.values()]\n",
        "plot_images(train_data, no_r=2, no_c=5)\n",
        "# plt.imshow(np.array(train_data)[0].reshape(7, 5))"
      ]
    },
    {
      "cell_type": "markdown",
      "metadata": {
        "id": "GvwTvcNHgS0t"
      },
      "source": [
        "## Trenowanie\n",
        "Utwórz instancje sieci Hipfielda i wytrenuj każdą z nich inną metodą adaptacji wag."
      ]
    },
    {
      "cell_type": "code",
      "execution_count": 120,
      "metadata": {
        "id": "IwT1EQaJfOFA"
      },
      "outputs": [],
      "source": [
        "hop = Hopfield(35)"
      ]
    },
    {
      "cell_type": "code",
      "execution_count": 121,
      "metadata": {
        "id": "dn63C_rZJ2Gx",
        "outputId": "8672a4b2-9e9e-4d7b-911e-d345859ff348",
        "colab": {
          "base_uri": "https://localhost:8080/"
        }
      },
      "outputs": [
        {
          "output_type": "execute_result",
          "data": {
            "text/plain": [
              "array([[0., 0., 0., ..., 0., 0., 0.],\n",
              "       [0., 0., 0., ..., 0., 0., 0.],\n",
              "       [0., 0., 0., ..., 0., 0., 0.],\n",
              "       ...,\n",
              "       [0., 0., 0., ..., 0., 0., 0.],\n",
              "       [0., 0., 0., ..., 0., 0., 0.],\n",
              "       [0., 0., 0., ..., 0., 0., 0.]])"
            ]
          },
          "metadata": {},
          "execution_count": 121
        }
      ],
      "source": [
        "hop.W"
      ]
    },
    {
      "cell_type": "code",
      "execution_count": 122,
      "metadata": {
        "id": "wx6JkMQtJ5Sw",
        "outputId": "74919657-26e7-4263-b3ac-28c02fe6d301",
        "colab": {
          "base_uri": "https://localhost:8080/"
        }
      },
      "outputs": [
        {
          "output_type": "execute_result",
          "data": {
            "text/plain": [
              "(10, 7, 5)"
            ]
          },
          "metadata": {},
          "execution_count": 122
        }
      ],
      "source": [
        "train_data2 = np.array(train_data)\n",
        "#zera zmieniane na -1, lepiej się wtedy działa\n",
        "train_data2 = np.where(train_data2==0, -1, train_data2)\n",
        "train_data2.shape"
      ]
    },
    {
      "cell_type": "code",
      "execution_count": 123,
      "metadata": {
        "id": "DnMk0zyE3U8U"
      },
      "outputs": [],
      "source": [
        "hop.train_pseudo_inv(train_data2)"
      ]
    },
    {
      "cell_type": "code",
      "execution_count": 124,
      "metadata": {
        "id": "vygR_I3wKPbQ",
        "outputId": "cb517452-12aa-4c71-c7ee-7e94d76c4e00",
        "colab": {
          "base_uri": "https://localhost:8080/"
        }
      },
      "outputs": [
        {
          "output_type": "execute_result",
          "data": {
            "text/plain": [
              "array([[ 0.13106549,  0.07510294,  0.00076101, ...,  0.00076101,\n",
              "        -0.07535661,  0.05494787],\n",
              "       [ 0.07510294,  0.27292372,  0.14437615, ...,  0.14437615,\n",
              "         0.01228423, -0.05698898],\n",
              "       [ 0.00076101,  0.14437615,  0.18874208, ...,  0.18874208,\n",
              "         0.12604316, -0.0619379 ],\n",
              "       ...,\n",
              "       [ 0.00076101,  0.14437615,  0.18874208, ...,  0.18874208,\n",
              "         0.12604316, -0.0619379 ],\n",
              "       [-0.07535661,  0.01228423,  0.12604316, ...,  0.12604316,\n",
              "         0.27903471,  0.07763494],\n",
              "       [ 0.05494787, -0.05698898, -0.0619379 , ..., -0.0619379 ,\n",
              "         0.07763494,  0.19452072]])"
            ]
          },
          "metadata": {},
          "execution_count": 124
        }
      ],
      "source": [
        "hop.W"
      ]
    },
    {
      "cell_type": "markdown",
      "metadata": {
        "id": "3YnuD1lCghB9"
      },
      "source": [
        "## Testowanie\n",
        "Przygotuj przykłady testowe (np. takie jak w pdf'ie) i zaprezentuj wyniki."
      ]
    },
    {
      "cell_type": "code",
      "execution_count": 125,
      "metadata": {
        "id": "DVlQaPBhgrIo",
        "outputId": "197ceab6-55e0-450c-f79f-8fff58462bf4",
        "colab": {
          "base_uri": "https://localhost:8080/",
          "height": 106
        }
      },
      "outputs": [
        {
          "output_type": "error",
          "ename": "SyntaxError",
          "evalue": "incomplete input (<ipython-input-125-a837eeac0b52>, line 1)",
          "traceback": [
            "\u001b[0;36m  File \u001b[0;32m\"<ipython-input-125-a837eeac0b52>\"\u001b[0;36m, line \u001b[0;32m1\u001b[0m\n\u001b[0;31m    test = np.array([[#TODO]])\u001b[0m\n\u001b[0m                              ^\u001b[0m\n\u001b[0;31mSyntaxError\u001b[0m\u001b[0;31m:\u001b[0m incomplete input\n"
          ]
        }
      ],
      "source": [
        "test = np.array([[#TODO]])"
      ]
    },
    {
      "cell_type": "code",
      "source": [
        "# prompt: zaszum wartości z pattern_data, użyj postaci: test = np.array([[#TODO]])\n",
        "\n",
        "test = np.array([[ 1,  1,  1,  1,  1,  1,  1,  1,  0,  0,  0,  0,  1,  1,  1,  1, 1,  1,  1,  1,  1,  1,  1,  1,  0,  0,  0,  0,  1,  1,  1,  1,  1,  1,  1]])"
      ],
      "metadata": {
        "id": "4vJ7iGbw8Kcg"
      },
      "execution_count": 126,
      "outputs": []
    },
    {
      "cell_type": "code",
      "execution_count": 127,
      "metadata": {
        "id": "kGzYT0aPeSMe",
        "outputId": "b10404d4-c142-423f-c80c-1e85de366947",
        "colab": {
          "base_uri": "https://localhost:8080/",
          "height": 439
        }
      },
      "outputs": [
        {
          "output_type": "execute_result",
          "data": {
            "text/plain": [
              "([], [])"
            ]
          },
          "metadata": {},
          "execution_count": 127
        },
        {
          "output_type": "display_data",
          "data": {
            "text/plain": [
              "<Figure size 400x500 with 1 Axes>"
            ],
            "image/png": "[encoded data removed]"
          },
          "metadata": {}
        }
      ],
      "source": [
        "fig = plt.figure(figsize=(4,5))\n",
        "ax = fig.add_subplot(1, 1, 1)\n",
        "ax.matshow(1-test[0].reshape(7, 5), cmap=\"gray\")\n",
        "plt.xticks(np.array([]))\n",
        "plt.yticks(np.array([]))"
      ]
    },
    {
      "cell_type": "code",
      "execution_count": 128,
      "metadata": {
        "id": "wzLP_nEZLcX9",
        "outputId": "5821c177-1dc1-407a-e574-9339a0f39c5d",
        "colab": {
          "base_uri": "https://localhost:8080/"
        }
      },
      "outputs": [
        {
          "output_type": "execute_result",
          "data": {
            "text/plain": [
              "array([ 1,  1,  1,  1,  1,  1, -1, -1, -1, -1,  1,  1,  1,  1,  1,  1,  1,\n",
              "        1,  1,  1, -1, -1, -1, -1,  1, -1, -1, -1, -1,  1,  1,  1,  1,  1,\n",
              "        1])"
            ]
          },
          "metadata": {},
          "execution_count": 128
        }
      ],
      "source": [
        "y = hop.predict(np.where(test[0]==0, -1, test[0]))\n",
        "y"
      ]
    },
    {
      "cell_type": "code",
      "execution_count": 129,
      "metadata": {
        "id": "y-BnL9heL2Qv",
        "outputId": "8003b5e1-69b0-48f5-b628-916fc794282e",
        "colab": {
          "base_uri": "https://localhost:8080/",
          "height": 439
        }
      },
      "outputs": [
        {
          "output_type": "execute_result",
          "data": {
            "text/plain": [
              "([], [])"
            ]
          },
          "metadata": {},
          "execution_count": 129
        },
        {
          "output_type": "display_data",
          "data": {
            "text/plain": [
              "<Figure size 400x500 with 1 Axes>"
            ],
            "image/png": "[encoded data removed]"
          },
          "metadata": {}
        }
      ],
      "source": [
        "fig = plt.figure(figsize=(4,5))\n",
        "ax = fig.add_subplot(1, 1, 1)\n",
        "ax.matshow(1-np.where(y.reshape(7, 5)==-1,0,1), cmap=\"gray\")\n",
        "plt.xticks(np.array([]))\n",
        "plt.yticks(np.array([]))"
      ]
    },
    {
      "cell_type": "markdown",
      "metadata": {
        "id": "UVxdzaTZgsy-"
      },
      "source": [
        "## Odszumianie danych\n",
        "Przygotuj kod zaszumiający wzorce uczące, mutacja piksela z ustalonym prawdopodobieństwem. Przeprowadź eksperymenty pokazujące zdolność sieci Hopfielda od odszumiania danych.\n"
      ]
    },
    {
      "cell_type": "code",
      "execution_count": null,
      "metadata": {
        "id": "BRzML3PlhT3B"
      },
      "outputs": [],
      "source": [
        "#TODO"
      ]
    },
    {
      "cell_type": "markdown",
      "metadata": {
        "id": "lm6VrDA_x3ZK"
      },
      "source": [
        "##implementacja sieci Hopfielda obejmuje kilka kluczowych elementów:\n",
        "\n",
        "pseudoinverse_learning(): Metoda uczenia sieci wykorzystująca algorytm pseudoinwersji do ustalania wartości wag. Kluczowe kroki:\n",
        "\n",
        "Normalizacja wzorców do wartości {-1, 1}\n",
        "Obliczenie macierzy pseudoodwrotnej Moore'a-Penrose'a\n",
        "Wyzerowanie diagonali wag (brak połączeń neuronów ze sobą)\n",
        "\n",
        "update_synchroniczny(): Równoczesna aktualizacja wszystkich neuronów\n",
        "\n",
        "Przygotuj klasę relizującą sieć Hopfielda wykorzystując dowolny LLM.\n"
      ]
    },
    {
      "cell_type": "code",
      "source": [
        "class HopfieldNetwork:\n",
        "    def __init__(self, n_neurons):\n",
        "        self.n_neurons = n_neurons\n",
        "        self.weights = np.zeros((n_neurons, n_neurons))\n",
        "\n",
        "    def pseudoinverse_learning(self, patterns):\n",
        "        \"\"\"\n",
        "        Metoda uczenia z użyciem pseudoinwersji\n",
        "\n",
        "        Args:\n",
        "            patterns (np.ndarray): Wzorce treningowe\n",
        "        \"\"\"\n",
        "\n",
        "\n",
        "        # Transpozycja wzorców przed pseudoinwersją\n",
        "        # TODO\n",
        "\n",
        "        # Obliczenie pseudoinwersji\n",
        "         # TODO\n",
        "\n",
        "        # Obliczenie wag\n",
        "         # TODO\n",
        "\n",
        "        # Wyzerowanie diagonali (brak połączeń neuronów ze sobą)\n",
        "         # TODO\n",
        "\n",
        "    def update_synchroniczny(self, stan_poczatkowy, max_iteracji=10):\n",
        "        \"\"\"Synchroniczna rekonstrukcja wzorca\"\"\"\n",
        "        stan = stan_poczatkowy.copy()\n",
        "\n",
        "        for _ in range(max_iteracji):\n",
        "            stan_poprzedni = stan.copy()\n",
        "            potencjaly = np.dot(stan, self.weights)\n",
        "            stan = np.where(potencjaly >= 0, 1, -1)\n",
        "\n",
        "            if np.array_equal(stan, stan_poprzedni):\n",
        "                break\n",
        "\n",
        "        return stan"
      ],
      "metadata": {
        "id": "-AxzbUwnyQAg"
      },
      "execution_count": null,
      "outputs": []
    },
    {
      "cell_type": "code",
      "execution_count": null,
      "metadata": {
        "id": "ncE4POqCmBJ5"
      },
      "outputs": [],
      "source": [
        "def prepare_digit_patterns(pattern_data):\n",
        "    \"\"\"Przygotowanie wzorców cyfr\"\"\"\n",
        "    patterns = []\n",
        "    labels = []\n",
        "\n",
        "    for digit, pattern in pattern_data.items():\n",
        "        # Zamiana {0,1} na {-1,1}\n",
        "        converted_pattern = np.where(np.array(pattern) > 0, 1, -1)\n",
        "        patterns.append(converted_pattern)\n",
        "        labels.append(digit)\n",
        "\n",
        "    return np.array(patterns), labels"
      ]
    },
    {
      "cell_type": "code",
      "execution_count": null,
      "metadata": {
        "id": "LHFg4JNfmBJ5"
      },
      "outputs": [],
      "source": [
        "# Przygotowanie wzorców\n",
        "patterns, labels = prepare_digit_patterns(pattern_data)\n",
        "\n",
        "# Inicjalizacja sieci\n",
        "network = HopfieldNetwork(len(patterns[0]))\n",
        "\n",
        "# Uczenie sieci\n",
        "network.pseudoinverse_learning(patterns)"
      ]
    },
    {
      "cell_type": "code",
      "source": [
        "import numpy as np\n",
        "import matplotlib.pyplot as plt\n",
        "\n",
        "def visualize_row(patterns, titles, rows=7, cols=5):\n",
        "    \"\"\"\n",
        "    Wyświetla wzorce w jednej linii (rząd) z podpisami.\n",
        "    :param patterns: Lista wzorców do wizualizacji.\n",
        "    :param titles: Lista tytułów dla każdego wzorca.\n",
        "    :param rows: Liczba wierszy w pojedynczym wzorcu.\n",
        "    :param cols: Liczba kolumn w pojedynczym wzorcu.\n",
        "    \"\"\"\n",
        "    num_patterns = len(patterns)\n",
        "    fig, axes = plt.subplots(1, num_patterns, figsize=(num_patterns * 3, 3))\n",
        "\n",
        "    if num_patterns == 1:\n",
        "        axes = [axes]  # Obsługa przypadku pojedynczego obrazu\n",
        "\n",
        "    for i, (pattern, title) in enumerate(zip(patterns, titles)):\n",
        "        pattern_display = pattern.reshape(rows, cols)\n",
        "        axes[i].imshow(pattern_display, cmap='binary')\n",
        "        axes[i].set_title(title, fontsize=10)\n",
        "        axes[i].axis(\"off\")\n",
        "\n",
        "    plt.tight_layout()\n",
        "    plt.show()\n",
        "\n",
        "# Testowanie sieci Hopfielda dla cyfr\n",
        "print(\"Testowanie sieci Hopfielda dla cyfr:\")\n",
        "\n",
        "for i, (pattern, label) in enumerate(zip(patterns, labels)):\n",
        "    # Dodanie małego szumu\n",
        "    noisy_pattern = pattern.copy()\n",
        "    num_noise = len(pattern) // 10  # Zaszumienie 10% neuronów\n",
        "    noise_indices = np.random.choice(len(pattern), num_noise, replace=False)\n",
        "    noisy_pattern[noise_indices] *= -1\n",
        "\n",
        "    # Rekonstrukcja\n",
        "    reconstructed = network.update_synchroniczny(noisy_pattern)\n",
        "\n",
        "    # Wizualizacja trzech obrazów w jednym rzędzie\n",
        "    visualize_row(\n",
        "        [pattern, noisy_pattern, reconstructed],\n",
        "        [f'Oryginalny {label}', f'Zaszumiony {label}', f'Rekonstrukcja {label}'],\n",
        "        rows=7, cols=5\n",
        "    )\n",
        "\n",
        "    # Porównanie podobieństwa\n",
        "    similarity = np.mean(reconstructed == pattern)\n",
        "    print(f\"Cyfra {label}: Podobieństwo rekonstrukcji = {similarity*100:.2f}%\")\n",
        "    print(\"-\" * 40)\n"
      ],
      "metadata": {
        "id": "81sitnEYwD57"
      },
      "execution_count": null,
      "outputs": []
    }
  ],
  "metadata": {
    "colab": {
      "provenance": []
    },
    "kernelspec": {
      "display_name": "Python 3",
      "language": "python",
      "name": "python3"
    },
    "language_info": {
      "codemirror_mode": {
        "name": "ipython",
        "version": 3
      },
      "file_extension": ".py",
      "mimetype": "text/x-python",
      "name": "python",
      "nbconvert_exporter": "python",
      "pygments_lexer": "ipython3",
      "version": "3.8.10"
    }
  },
  "nbformat": 4,
  "nbformat_minor": 0
}