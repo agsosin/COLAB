{
  "nbformat": 4,
  "nbformat_minor": 0,
  "metadata": {
    "colab": {
      "provenance": [],
      "authorship_tag": "ABX9TyMDeOnve1lwxlRpCKG0W7mU",
      "include_colab_link": true
    },
    "kernelspec": {
      "name": "python3",
      "display_name": "Python 3"
    },
    "language_info": {
      "name": "python"
    }
  },
  "cells": [
    {
      "cell_type": "markdown",
      "metadata": {
        "id": "view-in-github",
        "colab_type": "text"
      },
      "source": [
        "<a href=\"https://colab.research.google.com/github/agsosin/COLAB/blob/main/Problem_alokacji_zada%C5%84_obliczeniowych.ipynb\" target=\"_parent\"><img src=\"https://colab.research.google.com/assets/colab-badge.svg\" alt=\"Open In Colab\"/></a>"
      ]
    },
    {
      "cell_type": "markdown",
      "source": [
        "**Sprawozdanie: Problem alokacji zadań obliczeniowych**\n",
        "\n",
        "**1. Wstęp** Celem eksperymentu było zoptymalizowanie przydziału zadań obliczeniowych do procesorów w heterogenicznym systemie wieloprocesorowym. System składa się z czterech procesorów o różnych współczynnikach wydajności:\n",
        "\n",
        "- **P0 = 1**\n",
        "- **P1 = 1,25**\n",
        "- **P2 = 1,5**\n",
        "- **P3 = 1,75**\n",
        "\n",
        "Każde zadanie ma losowy czas wykonania w zakresie [10,90] przed uwzględnieniem wydajności procesora.\n",
        "\n",
        "**2. Model problemu** Mamy **N = 100** zadań, które należy rozdzielić pomiędzy procesory w taki sposób, aby **czas zakończenia pracy najpóźniej kończącego procesora (TZ) był minimalny**.\n",
        "\n",
        "**3. Metoda optymalizacji** Do optymalizacji użyto **dwuelementowej strategii ewolucyjnej**, gdzie populacja składa się z dwóch rozwiązań, które ulegają modyfikacji i selekcji. Algorytm iteruje do momentu spełnienia jednego z warunków zakończenia:\n",
        "\n",
        "- Liczba prób: 100 000\n",
        "- Maksymalna liczba nieudanych wymian pokoleń: 1000\n",
        "- Limit czasu pracy programu\n",
        "\n",
        "**4. Implementacja w Pythonie** Poniżej przedstawiono kod realizujący strategię ewolucyjną dla przydziału zadań.\n"
      ],
      "metadata": {
        "id": "N2rp6FBZ7qSs"
      }
    },
    {
      "cell_type": "code",
      "source": [
        "import numpy as np\n",
        "\n",
        "# Parametry\n",
        "N = 100  # Liczba zadań\n",
        "processors = [1, 1.25, 1.5, 1.75]  # Wydajności procesorów\n",
        "max_iterations = 100000\n",
        "max_failed_attempts = 1000\n",
        "\n",
        "def generate_tasks(n, min_time=10, max_time=90):\n",
        "    return np.random.randint(min_time, max_time + 1, size=n)\n",
        "\n",
        "def evaluate_solution(solution, task_times, processors):\n",
        "    processor_loads = np.zeros(len(processors))\n",
        "    for task, processor in zip(task_times, solution):\n",
        "        processor_loads[processor] += task / processors[processor]\n",
        "    return max(processor_loads)\n",
        "\n",
        "def mutate(solution):\n",
        "    new_solution = solution.copy()\n",
        "    idx = np.random.randint(len(solution))\n",
        "    new_solution[idx] = np.random.randint(len(processors))\n",
        "    return new_solution\n",
        "\n",
        "def evolutionary_strategy():\n",
        "    task_times = generate_tasks(N)\n",
        "    solution = np.random.randint(0, len(processors), size=N)\n",
        "    best_solution = solution.copy()\n",
        "    best_time = evaluate_solution(best_solution, task_times, processors)\n",
        "\n",
        "    failed_attempts = 0\n",
        "    for _ in range(max_iterations):\n",
        "        new_solution = mutate(solution)\n",
        "        new_time = evaluate_solution(new_solution, task_times, processors)\n",
        "\n",
        "        if new_time < best_time:\n",
        "            best_solution, best_time = new_solution, new_time\n",
        "            failed_attempts = 0\n",
        "        else:\n",
        "            failed_attempts += 1\n",
        "\n",
        "        if failed_attempts > max_failed_attempts:\n",
        "            break\n",
        "\n",
        "    return best_solution, best_time\n",
        "\n",
        "best_allocation, best_tz = evolutionary_strategy()\n",
        "print(\"Najlepszy przydział zadań:\", best_allocation)\n",
        "print(\"Minimalny czas zakonczenia (TZ):\", best_tz)"
      ],
      "metadata": {
        "colab": {
          "base_uri": "https://localhost:8080/",
          "height": 0
        },
        "id": "znoXe05676qy",
        "outputId": "8a9564d7-b587-49a7-fa81-684cf726a2a8"
      },
      "execution_count": 1,
      "outputs": [
        {
          "output_type": "stream",
          "name": "stdout",
          "text": [
            "Najlepszy przydział zadań: [3 1 2 0 1 2 1 3 2 1 1 0 1 2 1 1 3 1 1 0 2 0 0 3 0 3 2 1 0 3 3 0 0 1 1 3 0\n",
            " 2 2 1 3 3 2 3 0 2 1 3 0 0 2 1 1 1 1 3 3 3 2 2 1 0 2 3 3 3 0 2 2 1 0 2 0 0\n",
            " 1 0 1 3 1 2 1 0 1 0 3 0 3 1 2 2 0 2 2 1 1 3 1 3 3 0]\n",
            "Minimalny czas zakonczenia (TZ): 1109.6000000000004\n"
          ]
        }
      ]
    }
  ]
}