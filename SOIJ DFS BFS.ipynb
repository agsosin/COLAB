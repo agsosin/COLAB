{
  "nbformat": 4,
  "nbformat_minor": 0,
  "metadata": {
    "colab": {
      "provenance": [],
      "authorship_tag": "ABX9TyOqB5RfJTqctpN/JvwmxlnD",
      "include_colab_link": true
    },
    "kernelspec": {
      "name": "python3",
      "display_name": "Python 3"
    },
    "language_info": {
      "name": "python"
    }
  },
  "cells": [
    {
      "cell_type": "markdown",
      "metadata": {
        "id": "view-in-github",
        "colab_type": "text"
      },
      "source": [
        "<a href=\"https://colab.research.google.com/github/agsosin/COLAB/blob/main/SOIJ%20DFS%20BFS.ipynb\" target=\"_parent\"><img src=\"https://colab.research.google.com/assets/colab-badge.svg\" alt=\"Open In Colab\"/></a>"
      ]
    },
    {
      "cell_type": "code",
      "execution_count": null,
      "metadata": {
        "id": "JXO-8uZ8itMb"
      },
      "outputs": [],
      "source": [
        "from queue import Queue\n",
        "from collections import deque\n",
        "\n",
        "\n",
        "# Function for DFS\n",
        "def dfs(graph, start):\n",
        "    visited = set()\n",
        "    stack = [start]\n",
        "    result = []\n",
        "\n",
        "    while stack:\n",
        "        vertex = stack.pop()\n",
        "        if vertex not in visited:\n",
        "            visited.add(vertex)\n",
        "            result.append(vertex)\n",
        "            #print(\"results:\")\n",
        "            #print(result)\n",
        "            neighbors = graph.get(vertex)\n",
        "            #print(\"neighbors\")\n",
        "            #print(neighbors)\n",
        "            if neighbors is not None and neighbors not in result:\n",
        "                #gets the neighbors with lower inputs first\n",
        "                sorted_neighbors = sorted(neighbors - visited, key=lambda x: list(graph.keys()).index(x))\n",
        "                stack += sorted_neighbors[::-1]\n",
        "                #print(\"stack\")\n",
        "                #print(stack)\n",
        "    return result\n",
        "\n",
        "# Function for BFS\n",
        "def bfs(graph, start):\n",
        "    visited = set()\n",
        "    queue = deque([start])\n",
        "    result = []\n",
        "\n",
        "    while queue:\n",
        "        vertex = queue.popleft()\n",
        "        if vertex not in visited:\n",
        "            visited.add(vertex)\n",
        "            result.append(vertex)\n",
        "            neighbors = graph.get(vertex)\n",
        "            if neighbors is not None:\n",
        "                queue += [neighbor for neighbor in neighbors - visited]\n",
        "    return result\n",
        "\n",
        "\n",
        "# Read data\n",
        "t = int(input())  # Number of graphs\n",
        "for tutu in range(t):  # For each graph\n",
        "    v = int(input())  # Number of vertices\n",
        "    graph = {i: set() for i in range(1, v + 1)}  # Initialize graph as adjacency list\n",
        "    for row in range(1, v + 1):  # For each vertex\n",
        "        connections = list(map(int, input().split()))  # Read connections\n",
        "        for i, conn in enumerate(connections):\n",
        "            if i !=1:\n",
        "                graph[row].add(conn)  # Add connections to the graph\n",
        "\n",
        "    queries = []  # List to store queries\n",
        "    while True:  # Read queries until '0 0' is encountered\n",
        "        query = input().split()\n",
        "        if query == ['0', '0'] or len(query) < 2:\n",
        "            break\n",
        "        queries.append((int(query[0]), int(query[1])))\n",
        "\n",
        "    print(f\"graph {tutu + 1}\")  # Print graph number\n",
        "    for query in queries:  # For each query\n",
        "        vertex, method = query  # Get vertex and method\n",
        "        if method == 0:  # If DFS\n",
        "            result = dfs(graph, vertex)\n",
        "            print(\" \".join(str(v) for v in result if v!=0))  # Perform DFS and print result\n",
        "        elif method == 1:  # If BFS\n",
        "            result = bfs(graph, vertex)\n",
        "            print(\" \".join(str(v) for v in result if v!=0))  # Perform BFS and print result"
      ]
    }
  ]
}