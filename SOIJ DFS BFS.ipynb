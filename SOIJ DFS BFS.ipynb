{
  "nbformat": 4,
  "nbformat_minor": 0,
  "metadata": {
    "colab": {
      "provenance": [],
      "authorship_tag": "ABX9TyPuLBpLABZucQ0n96Bp4dAv",
      "include_colab_link": true
    },
    "kernelspec": {
      "name": "python3",
      "display_name": "Python 3"
    },
    "language_info": {
      "name": "python"
    }
  },
  "cells": [
    {
      "cell_type": "markdown",
      "metadata": {
        "id": "view-in-github",
        "colab_type": "text"
      },
      "source": [
        "<a href=\"https://colab.research.google.com/github/agsosin/COLAB/blob/main/SOIJ%20DFS%20BFS.ipynb\" target=\"_parent\"><img src=\"https://colab.research.google.com/assets/colab-badge.svg\" alt=\"Open In Colab\"/></a>"
      ]
    },
    {
      "cell_type": "code",
      "execution_count": 7,
      "metadata": {
        "colab": {
          "base_uri": "https://localhost:8080/"
        },
        "id": "JXO-8uZ8itMb",
        "outputId": "674fab59-e690-489c-a6f2-d9b84fdac043"
      },
      "outputs": [
        {
          "output_type": "execute_result",
          "data": {
            "text/plain": [
              "0"
            ]
          },
          "metadata": {},
          "execution_count": 7
        }
      ],
      "source": [
        "from queue import Queue\n",
        "from collections import deque\n",
        "\n",
        "#funkcja dfs\n",
        "def dfs(graph, start):\n",
        "    visited = set()\n",
        "    stack = [start]\n",
        "    result = []\n",
        "\n",
        "    while stack:\n",
        "        vertex = stack.pop()\n",
        "        if vertex not in visited and vertex in graph:  # odwiedź nieodzwiedzone i połączone\n",
        "            visited.add(vertex)\n",
        "            result.append(vertex)\n",
        "            stack.extend(graph.get(vertex, set()) - visited)\n",
        "    return result\n",
        "\n",
        "#funkcja bfs\n",
        "def bfs(graph, start):\n",
        "    visited = set()\n",
        "    queue = deque([start])\n",
        "    result = []\n",
        "\n",
        "    while queue:\n",
        "        vertex = queue.popleft()\n",
        "        if vertex not in visited and vertex in graph:  # odwiedź nieodzwiedzone i połączone\n",
        "            visited.add(vertex)\n",
        "            result.append(vertex)\n",
        "            queue.extend(graph.get(vertex, set()) - visited)  # Use get to handle missing keys\n",
        "    return result\n",
        "\n",
        "#czytacz danych\n",
        "t = int(input()) #liczba grafów\n",
        "for tutu in range(t): #dla każdego grafu\n",
        "  v = int(input()) #liczba wierzchołków\n",
        "  m = [] #macierz na połączenia\n",
        "  for row in range(v): #dla każdego wierzchołka\n",
        "    m.append(list(map(int, input().split()))) #dodaj wiersz z danymi\n",
        "  while True: #wczytuj dopóki nie każę przestać\n",
        "    queries =[] #pusta lista zapytań\n",
        "    query = input().split() #wczytaj linię\n",
        "    if query == ['0', '0']: #jeżeli koniec\n",
        "      break #wyjdź\n",
        "    queries.append((int(query[0]), int(query[1]))) #dodaj do listy\n",
        "  print(tutu) #wypisz nr grafu\n",
        "  for query in queries: #dla każdego zapytania\n",
        "    v, method = query #pobierz wierzchołek i metodę\n",
        "    if method == 0: #jeżeli DFS\n",
        "      print(dfs(m, v)) #wykonaj DFS\n",
        "    elif method ==1: #jeżeli BFS\n",
        "      print(bfs(m, v))\n",
        "\n",
        "\n",
        "\n",
        "\n",
        "\n",
        "\n",
        "    ### teraz musimy podzielić na BFS i DFS (patrz na tekst poniżej)\n",
        "    ### i wypluć wyniki. Nr grafu już jest do wydrukowania wyżej\n",
        "\n",
        "\n",
        "\n",
        "\n",
        "# -------------------------------------------------------------------------------------\n",
        "# do poskładania w kupę\n",
        "\"\"\"\n",
        "\n",
        "def dfs(graph, start):\n",
        "    visited = set()\n",
        "    stack = [start]\n",
        "    result = []\n",
        "\n",
        "    while stack:\n",
        "        vertex = stack.pop()\n",
        "        if vertex not in visited and vertex in graph:  # Check if vertex is in the graph\n",
        "            visited.add(vertex)\n",
        "            result.append(vertex)\n",
        "            stack.extend(graph.get(vertex, set()) - visited)  # Use get to handle missing keys\n",
        "\n",
        "    return result\n",
        "\n",
        "def bfs(graph, start):\n",
        "    visited = set()\n",
        "    queue = deque([start])\n",
        "    result = []\n",
        "\n",
        "    while queue:\n",
        "        vertex = queue.popleft()\n",
        "        if vertex not in visited and vertex in graph:  # Check if vertex is in the graph\n",
        "            visited.add(vertex)\n",
        "            result.append(vertex)\n",
        "            queue.extend(graph.get(vertex, set()) - visited)  # Use get to handle missing keys\n",
        "\n",
        "    return result\n",
        "\n",
        "# Przykładowe dane wejściowe\n",
        "t = int(input())  # Wczytaj liczbę grafów\n",
        "for _ in range(t):\n",
        "    print(\"graph\", end=\" \")  # Wypisz słowo \"graph\" jako oznaczenie przypadku testowego\n",
        "    n = int(input())  # Wczytaj liczbę wierzchołków grafu\n",
        "    graph = {}  # Inicjalizuj pusty słownik dla grafu\n",
        "    for i in range(n):\n",
        "        line = input().split()  # Wczytaj listę sąsiadów dla wierzchołka i\n",
        "        vertex = int(line[0])  # Pobierz numer wierzchołka\n",
        "        neighbors = set(map(int, line[1:]))  # Pobierz sąsiadów jako zbiór liczb\n",
        "        graph[vertex] = neighbors  # Dodaj wierzchołek i jego sąsiadów do grafu\n",
        "\n",
        "    queries = []  # Inicjalizuj pustą listę zapytań\n",
        "    while True:\n",
        "        query = input().split()  # Wczytaj zapytanie\n",
        "        if query == ['0', '0']:  # Jeśli zapytanie to '0 0', zakończ wczytywanie zapytań\n",
        "            break\n",
        "        queries.append((int(query[0]), int(query[1])))  # Dodaj zapytanie do listy zapytań\n",
        "\n",
        "    for query in queries:\n",
        "        v, method = query  # Pobierz wierzchołek startowy i metodę przeszukiwania z zapytania\n",
        "        if method == 0:  # Jeśli metoda to DFS\n",
        "            result = dfs(graph, v)  # Wykonaj przeszukiwanie DFS\n",
        "        else:  # W przeciwnym razie (metoda to BFS)\n",
        "            result = bfs(graph, v)  # Wykonaj przeszukiwanie BFS\n",
        "        print(*result)  # Wypisz wynik przeszukiwania\n",
        "  \"\"\""
      ]
    }
  ]
}