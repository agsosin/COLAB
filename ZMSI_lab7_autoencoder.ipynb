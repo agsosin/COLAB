{
 "cells": [
  {
   "cell_type": "markdown",
   "metadata": {
    "id": "DBXxErK07vQA"
   },
   "source": [
    "<center>\n",
    "    <font size=\"5\"> Zaawansowane Metody Uczenia Maszynowego i Głębokiego<br/>\n",
    "        <small><em>Studia stacjonarne II stopnia 2024/2025</em><br/>Kierunek: Informatyka<br>Specjalność: Systemy inteligentne i rozszerzona rzeczywistość</small>\n",
    "    </font>\n",
    "</center>\n",
    "<br>\n"
   ]
  },
  {
   "cell_type": "markdown",
   "metadata": {
    "id": "gWaTBVeDKX_7"
   },
   "source": [
    "# Laboratorium nr 10: Autoencoders"
   ]
  },
  {
   "cell_type": "markdown",
   "metadata": {
    "id": "Wwk604uKLAFL"
   },
   "source": [
    "## Montowanie Google Drive"
   ]
  },
  {
   "cell_type": "markdown",
   "metadata": {
    "id": "80MLD8g9BLgo"
   },
   "source": [
    "## Import bibliotek"
   ]
  },
  {
   "cell_type": "code",
   "execution_count": null,
   "metadata": {
    "colab": {
     "base_uri": "https://localhost:8080/"
    },
    "id": "Nch5dQKB6gPb",
    "outputId": "1b371919-62bf-452c-d1c0-a8c551ca6599"
   },
   "outputs": [],
   "source": [
    "import numpy as np\n",
    "import matplotlib.pyplot as plt\n",
    "import tensorflow as tf\n",
    "print('Numpy version:', np.__version__)\n",
    "print('Tensorflow version:', tf.__version__)"
   ]
  },
  {
   "cell_type": "markdown",
   "metadata": {
    "id": "O6xS51dbEf53"
   },
   "source": [
    "## Baza MNIST\n",
    "\n",
    "- Baza MNIST zawiera zbiór trenujący składający się z 60,000 przykładów skanów ręcznie pisanych cyfr od 0 do 9 (problem klasyfikacyjny z 10 klasami).\n",
    "- Zbiór testowy zawiera 10,000 przykładów.\n",
    "- Każdy obraz ma rozmiar 28x28 pikseli. Stanowią one 28 * 28 = 784 wejść do sieci.\n",
    "\n",
    "#### Pobieranie bazy MNIST\n",
    "- Bazę MNIST można pobrać bespośrednio ze strony http://yann.lecun.com/exdb/mnist/\n",
    "- Najwygodniej jednak jest użyć bazy MNIST z wykorzystaniem biblioteki Keras"
   ]
  },
  {
   "cell_type": "code",
   "execution_count": null,
   "metadata": {
    "colab": {
     "base_uri": "https://localhost:8080/"
    },
    "id": "BZ_Ic-3bEN3I",
    "outputId": "9964a531-4d47-4f50-8d47-5b9c1833e0cb"
   },
   "outputs": [],
   "source": [
    "(train_images, train_labels), (test_images, test_labels) = tf.keras.datasets.mnist.load_data()\n",
    "print(train_images.shape, train_labels.shape, test_images.shape, test_labels.shape)\n",
    "train_images = np.expand_dims(train_images, axis=-1)/255.\n",
    "train_labels = np.int64(train_labels)\n",
    "test_images = np.expand_dims(test_images, axis=-1)/255.\n",
    "test_labels = np.int64(test_labels)\n",
    "print(train_images.shape, train_labels.shape, test_images.shape, test_labels.shape)"
   ]
  },
  {
   "cell_type": "markdown",
   "metadata": {
    "id": "rUb3wQCxGve_"
   },
   "source": [
    "Przykładowe cyfry:"
   ]
  },
  {
   "cell_type": "code",
   "execution_count": null,
   "metadata": {
    "colab": {
     "base_uri": "https://localhost:8080/",
     "height": 826
    },
    "id": "7nV6uNb8GkkV",
    "outputId": "0d48fd58-d445-45fb-ab08-4dd7a3c0a27a"
   },
   "outputs": [],
   "source": [
    "plt.figure(figsize=(10,10))\n",
    "random_inds = np.random.choice(60000, 36)\n",
    "for i in range(36):\n",
    "    plt.subplot(6,6,i+1)\n",
    "    plt.xticks([])\n",
    "    plt.yticks([])\n",
    "    plt.grid(False)\n",
    "    image_ind = random_inds[i]\n",
    "    plt.imshow(np.squeeze(train_images[image_ind]), cmap=plt.cm.binary)\n",
    "    plt.xlabel(train_labels[image_ind])"
   ]
  },
  {
   "cell_type": "markdown",
   "metadata": {
    "id": "juLIG7RcNZ0y"
   },
   "source": [
    "## AutoEncoder\n",
    "Stwórz model AutoEncodera. Użyj warst Dense. Wytrenuj i zwizualizuj odtworzone cyfry."
   ]
  },
  {
   "cell_type": "code",
   "execution_count": null,
   "metadata": {
    "id": "PTktRZqz6DzS"
   },
   "outputs": [],
   "source": [
    "from tensorflow.keras.layers import Input, Dense, Flatten, Conv2D, MaxPool2D, Dropout, Conv2DTranspose, Reshape\n",
    "from tensorflow.keras.models import Model, Sequential\n",
    "\n",
    "def encoder(n):\n",
    "    ##TODO\n",
    "    return Model(inputs=x, outputs=y)\n",
    "\n",
    "\n",
    "def decoder(n):\n",
    "    ##TODO\n",
    "    return Model(inputs=x, outputs=y)\n",
    "\n",
    "# wersja z klasyfikatorem\n",
    "# def decoder(n):\n",
    "#    ##TODO\n",
    "#    return Model(inputs=x, outputs=[y,y2])\n"
   ]
  },
  {
   "cell_type": "code",
   "execution_count": null,
   "metadata": {
    "colab": {
     "base_uri": "https://localhost:8080/",
     "height": 218
    },
    "id": "8ScX4ci42cRg",
    "outputId": "0fe65734-0048-40ad-8e33-f406e68f0c96"
   },
   "outputs": [],
   "source": [
    "# model autoencodera i trenowanie\n",
    "n = # sprawdz działanie dla różnych wielkości przestrzeni latentnej\n",
    "enc = encoder(n)\n",
    "dec = decoder(n)\n",
    "ae_model = Sequential([enc, dec])\n",
    "ae_model.summary()"
   ]
  },
  {
   "cell_type": "code",
   "execution_count": null,
   "metadata": {
    "colab": {
     "base_uri": "https://localhost:8080/"
    },
    "id": "k58tdgUtP2w-",
    "outputId": "09f5909d-19cb-48a6-b92a-56919235957f"
   },
   "outputs": [],
   "source": [
    "ae_model.compile(optimizer='adam', loss='mse')\n",
    "ae_model.fit(train_images, train_images, epochs=30, batch_size=128, validation_split=0.1)\n",
    "\n",
    "# uczenie z klasyfikatorem\n",
    "#ae_model.compile(optimizer='adam', loss=['mse', 'sparse_categorical_crossentropy'], loss_weights=[0.4, 0.6], metrics=[None, 'accuracy'])\n",
    "#ae_model.fit(train_images, [train_images, train_labels], epochs=30, batch_size=128, validation_split=0.1)"
   ]
  },
  {
   "cell_type": "code",
   "execution_count": null,
   "metadata": {
    "colab": {
     "base_uri": "https://localhost:8080/"
    },
    "id": "fUkxe5ffy7wU",
    "outputId": "79e73741-2a71-4962-dbdd-711af97f10d3"
   },
   "outputs": [],
   "source": [
    "# predykcja\n",
    "imgs = train_images[:10]\n",
    "pred = ae_model.predict(imgs)"
   ]
  },
  {
   "cell_type": "code",
   "execution_count": null,
   "metadata": {
    "colab": {
     "base_uri": "https://localhost:8080/",
     "height": 186
    },
    "id": "G2VwAkDpz6-D",
    "outputId": "8b7fdf9c-b032-4b31-e79d-7e267312f5fe"
   },
   "outputs": [],
   "source": [
    "# wizualizacja\n",
    "plt.figure(figsize=(10,2))\n",
    "for i in range(10):\n",
    "    plt.subplot(2, 10, i+1)\n",
    "    plt.xticks([])\n",
    "    plt.yticks([])\n",
    "    plt.grid(False)\n",
    "    plt.imshow(np.squeeze(imgs[i]), cmap=plt.cm.binary)\n",
    "    plt.subplot(2, 10, i+1+10)\n",
    "    plt.xticks([])\n",
    "    plt.yticks([])\n",
    "    plt.grid(False)\n",
    "    plt.imshow(np.squeeze(pred[i]), cmap=plt.cm.binary)\n",
    "    #plt.xlabel(train_labels[image_ind])"
   ]
  },
  {
   "cell_type": "code",
   "execution_count": null,
   "metadata": {
    "colab": {
     "base_uri": "https://localhost:8080/"
    },
    "id": "uMc5GHfDlEUs",
    "outputId": "c55372b6-60f2-4d5b-aad4-4662bc7e2daf"
   },
   "outputs": [],
   "source": [
    "# losowe wektory\n",
    "ran = np.random.random((10,n))*2-1\n",
    "ran"
   ]
  },
  {
   "cell_type": "code",
   "execution_count": null,
   "metadata": {
    "colab": {
     "base_uri": "https://localhost:8080/",
     "height": 203
    },
    "id": "9r7UmNzolUeD",
    "outputId": "22191ac7-939b-44dc-89bb-5e64a038fbe4"
   },
   "outputs": [],
   "source": [
    "ran_imgs = dec.predict(ran)\n",
    "plt.figure(figsize=(10,2))\n",
    "for i in range(10):\n",
    "    plt.subplot(1, 10, i+1)\n",
    "    plt.xticks([])\n",
    "    plt.yticks([])\n",
    "    plt.grid(False)\n",
    "    plt.imshow(np.squeeze(ran_imgs[i]), cmap=plt.cm.binary)"
   ]
  },
  {
   "cell_type": "markdown",
   "metadata": {
    "id": "bntSoVeEnB7N"
   },
   "source": [
    "## Wizualizacje przestrzeni ukrytej"
   ]
  },
  {
   "cell_type": "code",
   "execution_count": null,
   "metadata": {
    "colab": {
     "base_uri": "https://localhost:8080/"
    },
    "id": "jGM6wafwmCoG",
    "outputId": "4f9e5e3d-595e-4c57-9ee2-caf2e6f0a470"
   },
   "outputs": [],
   "source": [
    "latent = enc.predict(train_images)"
   ]
  },
  {
   "cell_type": "code",
   "execution_count": null,
   "metadata": {
    "colab": {
     "base_uri": "https://localhost:8080/",
     "height": 847
    },
    "id": "i0eEtWzi2zdT",
    "outputId": "be025c49-2f98-4640-a8aa-98cda1979443"
   },
   "outputs": [],
   "source": [
    "#wizualizacja\n",
    "plt.figure(figsize=(10,10))\n",
    "for i in range(10):\n",
    "    plt.scatter(latent[np.where(train_labels==i), 0], latent[np.where(train_labels==i), 1], label=str(i))\n",
    "plt.legend()\n",
    "plt.show()"
   ]
  },
  {
   "cell_type": "code",
   "execution_count": null,
   "metadata": {
    "colab": {
     "base_uri": "https://localhost:8080/",
     "height": 865
    },
    "id": "RWCg_MsWpKnJ",
    "outputId": "b71fb4d3-a49c-4419-ab56-2c36c9e09acb"
   },
   "outputs": [],
   "source": [
    "#wizualizacja wersja z klasyfikatorem\n",
    "latent = enc.predict(train_images)\n",
    "plt.figure(figsize=(10,10))\n",
    "for i in range(10):\n",
    "    plt.scatter(latent[np.where(train_labels==i), 0], latent[np.where(train_labels==i), 1], label=str(i))\n",
    "plt.legend()\n",
    "plt.show()"
   ]
  },
  {
   "cell_type": "code",
   "execution_count": null,
   "metadata": {
    "colab": {
     "base_uri": "https://localhost:8080/",
     "height": 865
    },
    "id": "jAfBZMVBrGVs",
    "outputId": "88f14c9e-6146-4420-b479-2abfb4a4d1de"
   },
   "outputs": [],
   "source": [
    "# wizualizacja, wersja z klasyfikatorem, funkcja linear zamiast tanh\n",
    "latent = enc.predict(train_images)\n",
    "plt.figure(figsize=(10,10))\n",
    "for i in range(10):\n",
    "    plt.scatter(latent[np.where(train_labels==i), 0], latent[np.where(train_labels==i), 1], label=str(i))\n",
    "plt.legend()\n",
    "plt.show()"
   ]
  },
  {
   "cell_type": "markdown",
   "metadata": {
    "id": "-3mGAFsT3XFQ"
   },
   "source": [
    "## Dodatkowe ćwiczenia\n",
    "- Dokonaj redukcji wymiarowości innymi algorytmami np. PCA, i zwizualizuj\n",
    "- Wygeneruj obrazy odtworzone z punktów leżących na okręgu o środku w (0,0), promień dobierz. Odpowienio dużo obrazów pokaże płynne przejścia pomiędzy klasami.\n",
    "- Zdefiniuj enkoder i dekoder używając warst odpowiednio konwolucyjnych i dekonwolucyjnych. Porównaj wyniki."
   ]
  },
  {
   "cell_type": "code",
   "execution_count": 16,
   "metadata": {
    "id": "RcMCCJ0-oaug"
   },
   "outputs": [],
   "source": []
  },
  {
   "cell_type": "code",
   "execution_count": null,
   "metadata": {},
   "outputs": [],
   "source": []
  }
 ],
 "metadata": {
  "accelerator": "GPU",
  "colab": {
   "provenance": []
  },
  "kernelspec": {
   "display_name": "Python 3",
   "language": "python",
   "name": "python3"
  },
  "language_info": {
   "codemirror_mode": {
    "name": "ipython",
    "version": 3
   },
   "file_extension": ".py",
   "mimetype": "text/x-python",
   "name": "python",
   "nbconvert_exporter": "python",
   "pygments_lexer": "ipython3",
   "version": "3.8.10"
  }
 },
 "nbformat": 4,
 "nbformat_minor": 1
}
