{
  "cells": [
    {
      "cell_type": "markdown",
      "metadata": {
        "id": "DBXxErK07vQA"
      },
      "source": [
        "<center>\n",
        "    <font size=\"5\"> Zaawansowane Metody Sztucznej Inteligencji<br/>\n",
        "        <small><em>Studia niestacjonarne II stopnia 2024/2025</em><br/>Kierunek: Informatyka<br>\n",
        "    </font>\n",
        "</center>\n",
        "<br>\n",
        "\n"
      ]
    },
    {
      "cell_type": "markdown",
      "source": [
        "Agnieszka Sosin, nr indeksu: 11820"
      ],
      "metadata": {
        "id": "s6oxgqxMND1C"
      }
    },
    {
      "cell_type": "markdown",
      "metadata": {
        "id": "gWaTBVeDKX_7"
      },
      "source": [
        "# Laboratorium nr 6: Sieć Hopfielda\n",
        "zapoznaj się z treścią artykułu:\n",
        "\n",
        "Radosław Marusik: <i>Metody uczenia sieci neuronowej Hopfielda</i>"
      ]
    },
    {
      "cell_type": "markdown",
      "metadata": {
        "id": "80MLD8g9BLgo"
      },
      "source": [
        "## Import bibliotek"
      ]
    },
    {
      "cell_type": "code",
      "execution_count": null,
      "metadata": {
        "id": "Nch5dQKB6gPb",
        "vscode": {
          "languageId": "python"
        },
        "colab": {
          "base_uri": "https://localhost:8080/"
        },
        "outputId": "a8bdb2dc-7902-4312-9c61-4b63cae24de7"
      },
      "outputs": [
        {
          "output_type": "stream",
          "name": "stdout",
          "text": [
            "Numpy version: 1.26.4\n",
            "Tensorflow version: 2.17.1\n"
          ]
        }
      ],
      "source": [
        "import numpy as np\n",
        "import matplotlib.pyplot as plt\n",
        "import tensorflow as tf\n",
        "import matplotlib.pyplot as plt\n",
        "print('Numpy version:', np.__version__)\n",
        "print('Tensorflow version:', tf.__version__)"
      ]
    },
    {
      "cell_type": "markdown",
      "metadata": {
        "id": "r_3efa9pLghG"
      },
      "source": [
        "## Sieć Hopfielda\n",
        "Zaimplementuj architekturę sieci Hopfielda wraz z algorytmem pseudoinwersji dla ustalania wartości wag (bazując na załączonym artykule).\n"
      ]
    },
    {
      "cell_type": "code",
      "source": [
        "import numpy as np\n",
        "import matplotlib.pyplot as plt\n",
        "import tensorflow as tf\n",
        "import matplotlib.pyplot as plt\n",
        "print('Numpy version:', np.__version__)\n",
        "print('Tensorflow version:', tf.__version__)\n",
        "class Hopfield():\n",
        "    def __init__(self, n):\n",
        "        #inicjalizacja wag\n",
        "        self.n = n\n",
        "        self.W = np.zeros((n,n))\n",
        "\n",
        "    def predict(self, x, maxiter=10000, maxiter2=100):\n",
        "        self.iter = 0\n",
        "        y = x.copy()\n",
        "        for j in range(maxiter):\n",
        "            for i in range(self.n):\n",
        "                xp = y.copy()\n",
        "                self.iter+=1\n",
        "                y[i] = np.sign(np.dot(self.W[i], y))\n",
        "            if np.all(y == xp):\n",
        "                break\n",
        "        return y\n",
        "\n",
        "    def train_pseudo_inv(self, X):\n",
        "        # adaptacja wag metodą pseudo inwersji\n",
        "        for x in X:\n",
        "            x = x.reshape((1,-1))\n",
        "            #####################################################\n",
        "            #uzupełnij formułę iteracyjną z artykułu\n",
        "            self.W += (((self.W @ x.T) - x.T) @ ((self.W @ x.T)-x.T).T)/((x @ x.T) - (x @ (self.W @ x.T)))#TODO"
      ],
      "metadata": {
        "colab": {
          "base_uri": "https://localhost:8080/"
        },
        "id": "3wPtqo7e3v2N",
        "outputId": "6edc526e-3e52-427b-848e-cd3b052ff7af"
      },
      "execution_count": null,
      "outputs": [
        {
          "output_type": "stream",
          "name": "stdout",
          "text": [
            "Numpy version: 1.26.4\n",
            "Tensorflow version: 2.17.1\n"
          ]
        }
      ]
    },
    {
      "cell_type": "markdown",
      "source": [
        "Zastosowanie:\n",
        "\n",
        "Kod 1 typowo znajduje zastosowanie, gdy\n",
        "𝑊\n",
        "W ma być wyliczone raz dla pełnego zbioru danych.\n",
        "Kod 2 jest stosowany w algorytmach iteracyjnych lub online learning, gdzie\n",
        "𝑊\n",
        "W jest aktualizowane na bieżąco przy napływie nowych danych.\n",
        "\n",
        "Jest jeszcze taka opcja:\n",
        "Wx = self.W @ x\n",
        "self.W += np.outer(Wx - x, Wx - x) / (x.T @ x - x.T @ Wx)\n"
      ],
      "metadata": {
        "id": "r5gQvU7_5Vsl"
      }
    },
    {
      "cell_type": "markdown",
      "metadata": {
        "id": "L0V4MM9LcfBG"
      },
      "source": [
        "## Przygotowanie danych uczących (wzorców).\n",
        "Uzupełnij"
      ]
    },
    {
      "cell_type": "code",
      "source": [
        "# prompt: wygeneruj pattern_data dla powyższego kodu. założenia: cyfry 5x7 pikseli, pattern data to słownik postaci: {\"0\":[numpy array],\"1\":[]....}.\n",
        "\n",
        "pattern_data = {\n",
        "    \"0\": np.array([\n",
        "        [1, 1, 1, 1, 1],\n",
        "        [1, 0, 0, 0, 1],\n",
        "        [1, 0, 0, 0, 1],\n",
        "        [1, 0, 0, 0, 1],\n",
        "        [1, 0, 0, 0, 1],\n",
        "        [1, 0, 0, 0, 1],\n",
        "        [1, 1, 1, 1, 1]\n",
        "    ]),\n",
        "    \"1\": np.array([\n",
        "        [0, 0, 1, 0, 0],\n",
        "        [0, 1, 1, 0, 0],\n",
        "        [0, 0, 1, 0, 0],\n",
        "        [0, 0, 1, 0, 0],\n",
        "        [0, 0, 1, 0, 0],\n",
        "        [0, 0, 1, 0, 0],\n",
        "        [0, 1, 1, 1, 0]\n",
        "    ]),\n",
        "    \"2\": np.array([\n",
        "        [1, 1, 1, 1, 1],\n",
        "        [0, 0, 0, 0, 1],\n",
        "        [0, 0, 0, 1, 0],\n",
        "        [0, 0, 1, 0, 0],\n",
        "        [0, 1, 0, 0, 0],\n",
        "        [0, 1, 0, 0, 0],\n",
        "        [1, 1, 1, 1, 1]\n",
        "    ]),\n",
        "    \"3\": np.array([\n",
        "        [1, 1, 1, 1, 1],\n",
        "        [0, 0, 0, 0, 1],\n",
        "        [0, 0, 0, 1, 0],\n",
        "        [1, 1, 1, 1, 1],\n",
        "        [0, 0, 0, 0, 1],\n",
        "        [0, 0, 0, 0, 1],\n",
        "        [1, 1, 1, 1, 1]\n",
        "    ]),\n",
        "    \"4\": np.array([\n",
        "        [1, 0, 0, 0, 1],\n",
        "        [1, 0, 0, 0, 1],\n",
        "        [1, 0, 0, 0, 1],\n",
        "        [1, 1, 1, 1, 1],\n",
        "        [0, 0, 0, 0, 1],\n",
        "        [0, 0, 0, 0, 1],\n",
        "        [0, 0, 0, 0, 1]\n",
        "    ]),\n",
        "    \"5\": np.array([\n",
        "        [1, 1, 1, 1, 1],\n",
        "        [1, 0, 0, 0, 0],\n",
        "        [1, 1, 1, 1, 1],\n",
        "        [0, 0, 0, 0, 1],\n",
        "        [0, 0, 0, 0, 1],\n",
        "        [0, 0, 0, 0, 1],\n",
        "        [1, 1, 1, 1, 1]\n",
        "    ]),\n",
        "    \"6\": np.array([\n",
        "        [1, 1, 1, 1, 1],\n",
        "        [1, 0, 0, 0, 0],\n",
        "        [1, 1, 1, 1, 1],\n",
        "        [1, 0, 0, 0, 1],\n",
        "        [1, 0, 0, 0, 1],\n",
        "        [1, 0, 0, 0, 1],\n",
        "        [1, 1, 1, 1, 1]\n",
        "    ]),\n",
        "    \"7\": np.array([\n",
        "        [1, 1, 1, 1, 1],\n",
        "        [0, 0, 0, 0, 1],\n",
        "        [0, 0, 0, 1, 0],\n",
        "        [0, 0, 1, 0, 0],\n",
        "        [0, 0, 1, 0, 0],\n",
        "        [0, 0, 1, 0, 0],\n",
        "        [0, 0, 1, 0, 0]\n",
        "    ]),\n",
        "    \"8\": np.array([\n",
        "        [1, 1, 1, 1, 1],\n",
        "        [1, 0, 0, 0, 1],\n",
        "        [1, 1, 1, 1, 1],\n",
        "        [1, 0, 0, 0, 1],\n",
        "        [1, 0, 0, 0, 1],\n",
        "        [1, 0, 0, 0, 1],\n",
        "        [1, 1, 1, 1, 1]\n",
        "    ]),\n",
        "    \"9\": np.array([\n",
        "        [1, 1, 1, 1, 1],\n",
        "        [1, 0, 0, 0, 1],\n",
        "        [1, 0, 0, 0, 1],\n",
        "        [1, 1, 1, 1, 1],\n",
        "        [0, 0, 0, 0, 1],\n",
        "        [0, 0, 0, 0, 1],\n",
        "        [1, 1, 1, 1, 1]\n",
        "    ])\n",
        "}"
      ],
      "metadata": {
        "id": "hx6l7AKW7E2S"
      },
      "execution_count": null,
      "outputs": []
    },
    {
      "cell_type": "code",
      "execution_count": null,
      "metadata": {
        "id": "2oViNUjVd8ka"
      },
      "outputs": [],
      "source": [
        "def plot_images(images, no_r=2, no_c=5, figsize=(4,4)):\n",
        "    fig = plt.figure(figsize=figsize)\n",
        "    images = np.array(images).reshape(-1, 7, 5)\n",
        "    for i in range(no_r):\n",
        "        for j in range(no_c):\n",
        "            ax = fig.add_subplot(no_r, no_c, no_c * i + (j + 1))\n",
        "            ax.matshow(1-images[no_c * i + j], cmap=\"gray\")\n",
        "            plt.xticks(np.array([]))\n",
        "            plt.yticks(np.array([]))\n",
        "    plt.show"
      ]
    },
    {
      "cell_type": "code",
      "execution_count": null,
      "metadata": {
        "id": "ijqQK0HcfHYd",
        "colab": {
          "base_uri": "https://localhost:8080/",
          "height": 279
        },
        "outputId": "e37848a2-97f8-4f8f-a983-b4bfc19144b9"
      },
      "outputs": [
        {
          "output_type": "display_data",
          "data": {
            "text/plain": [
              "<Figure size 400x400 with 10 Axes>"
            ],
            "image/png": "[encoded data removed]"
          },
          "metadata": {}
        }
      ],
      "source": [
        "train_data = [np.array(d) for d in pattern_data.values()]\n",
        "plot_images(train_data, no_r=2, no_c=5)\n",
        "# plt.imshow(np.array(train_data)[0].reshape(7, 5))"
      ]
    },
    {
      "cell_type": "markdown",
      "metadata": {
        "id": "GvwTvcNHgS0t"
      },
      "source": [
        "## Trenowanie\n",
        "Utwórz instancje sieci Hipfielda i wytrenuj każdą z nich inną metodą adaptacji wag."
      ]
    },
    {
      "cell_type": "code",
      "execution_count": null,
      "metadata": {
        "id": "IwT1EQaJfOFA"
      },
      "outputs": [],
      "source": [
        "hop = Hopfield(35)"
      ]
    },
    {
      "cell_type": "code",
      "execution_count": null,
      "metadata": {
        "id": "dn63C_rZJ2Gx",
        "colab": {
          "base_uri": "https://localhost:8080/"
        },
        "outputId": "43c0ac7d-87fb-4e7d-e824-1399d31c8000"
      },
      "outputs": [
        {
          "output_type": "execute_result",
          "data": {
            "text/plain": [
              "array([[0., 0., 0., ..., 0., 0., 0.],\n",
              "       [0., 0., 0., ..., 0., 0., 0.],\n",
              "       [0., 0., 0., ..., 0., 0., 0.],\n",
              "       ...,\n",
              "       [0., 0., 0., ..., 0., 0., 0.],\n",
              "       [0., 0., 0., ..., 0., 0., 0.],\n",
              "       [0., 0., 0., ..., 0., 0., 0.]])"
            ]
          },
          "metadata": {},
          "execution_count": 137
        }
      ],
      "source": [
        "hop.W"
      ]
    },
    {
      "cell_type": "code",
      "execution_count": null,
      "metadata": {
        "id": "wx6JkMQtJ5Sw",
        "colab": {
          "base_uri": "https://localhost:8080/"
        },
        "outputId": "3fcfc45e-01bc-4541-f0d7-5bf301a8f7ce"
      },
      "outputs": [
        {
          "output_type": "execute_result",
          "data": {
            "text/plain": [
              "(10, 7, 5)"
            ]
          },
          "metadata": {},
          "execution_count": 138
        }
      ],
      "source": [
        "train_data2 = np.array(train_data)\n",
        "#zera zmieniane na -1, lepiej się wtedy działa\n",
        "train_data2 = np.where(train_data2==0, -1, train_data2)\n",
        "train_data2.shape"
      ]
    },
    {
      "cell_type": "code",
      "execution_count": null,
      "metadata": {
        "id": "DnMk0zyE3U8U"
      },
      "outputs": [],
      "source": [
        "hop.train_pseudo_inv(train_data2)"
      ]
    },
    {
      "cell_type": "code",
      "execution_count": null,
      "metadata": {
        "id": "vygR_I3wKPbQ",
        "colab": {
          "base_uri": "https://localhost:8080/"
        },
        "outputId": "c3ec5a79-2f28-4ca1-c0b3-db4edbd0b10b"
      },
      "outputs": [
        {
          "output_type": "execute_result",
          "data": {
            "text/plain": [
              "array([[ 0.13106549,  0.07510294,  0.00076101, ...,  0.00076101,\n",
              "        -0.07535661,  0.05494787],\n",
              "       [ 0.07510294,  0.27292372,  0.14437615, ...,  0.14437615,\n",
              "         0.01228423, -0.05698898],\n",
              "       [ 0.00076101,  0.14437615,  0.18874208, ...,  0.18874208,\n",
              "         0.12604316, -0.0619379 ],\n",
              "       ...,\n",
              "       [ 0.00076101,  0.14437615,  0.18874208, ...,  0.18874208,\n",
              "         0.12604316, -0.0619379 ],\n",
              "       [-0.07535661,  0.01228423,  0.12604316, ...,  0.12604316,\n",
              "         0.27903471,  0.07763494],\n",
              "       [ 0.05494787, -0.05698898, -0.0619379 , ..., -0.0619379 ,\n",
              "         0.07763494,  0.19452072]])"
            ]
          },
          "metadata": {},
          "execution_count": 140
        }
      ],
      "source": [
        "hop.W"
      ]
    },
    {
      "cell_type": "markdown",
      "metadata": {
        "id": "3YnuD1lCghB9"
      },
      "source": [
        "## Testowanie\n",
        "Przygotuj przykłady testowe (np. takie jak w pdf'ie) i zaprezentuj wyniki."
      ]
    },
    {
      "cell_type": "code",
      "source": [
        "# prompt: zaszum wartości z pattern_data, użyj postaci: test = np.array([[#TODO]])\n",
        "\n",
        "test = np.array([[ 1,  1,  1,  1,  1,  1,  1,  1,  0,  0,  0,  0,  1,  1,  1,  1, 1,  1,  1,  1,  1,  1,  1,  1,  0,  0,  0,  0,  1,  1,  1,  1,  1,  1,  1]])"
      ],
      "metadata": {
        "id": "4vJ7iGbw8Kcg"
      },
      "execution_count": null,
      "outputs": []
    },
    {
      "cell_type": "code",
      "execution_count": null,
      "metadata": {
        "id": "kGzYT0aPeSMe",
        "colab": {
          "base_uri": "https://localhost:8080/",
          "height": 439
        },
        "outputId": "79fdae06-5b54-4408-fed1-6d7da0662486"
      },
      "outputs": [
        {
          "output_type": "execute_result",
          "data": {
            "text/plain": [
              "([], [])"
            ]
          },
          "metadata": {},
          "execution_count": 142
        },
        {
          "output_type": "display_data",
          "data": {
            "text/plain": [
              "<Figure size 400x500 with 1 Axes>"
            ],
            "image/png": "[encoded data removed]"
          },
          "metadata": {}
        }
      ],
      "source": [
        "fig = plt.figure(figsize=(4,5))\n",
        "ax = fig.add_subplot(1, 1, 1)\n",
        "ax.matshow(1-test[0].reshape(7, 5), cmap=\"gray\")\n",
        "plt.xticks(np.array([]))\n",
        "plt.yticks(np.array([]))"
      ]
    },
    {
      "cell_type": "code",
      "execution_count": null,
      "metadata": {
        "id": "wzLP_nEZLcX9",
        "colab": {
          "base_uri": "https://localhost:8080/"
        },
        "outputId": "120ad417-aa44-48d2-eaf8-bed70ec917ab"
      },
      "outputs": [
        {
          "output_type": "execute_result",
          "data": {
            "text/plain": [
              "array([ 1,  1,  1,  1,  1,  1, -1, -1, -1, -1,  1,  1,  1,  1,  1,  1,  1,\n",
              "        1,  1,  1, -1, -1, -1, -1,  1, -1, -1, -1, -1,  1,  1,  1,  1,  1,\n",
              "        1])"
            ]
          },
          "metadata": {},
          "execution_count": 143
        }
      ],
      "source": [
        "y = hop.predict(np.where(test[0]==0, -1, test[0]))\n",
        "y"
      ]
    },
    {
      "cell_type": "code",
      "execution_count": null,
      "metadata": {
        "id": "y-BnL9heL2Qv",
        "colab": {
          "base_uri": "https://localhost:8080/",
          "height": 439
        },
        "outputId": "d05d9d59-a423-49e9-bb5b-38ac51e1531f"
      },
      "outputs": [
        {
          "output_type": "execute_result",
          "data": {
            "text/plain": [
              "([], [])"
            ]
          },
          "metadata": {},
          "execution_count": 144
        },
        {
          "output_type": "display_data",
          "data": {
            "text/plain": [
              "<Figure size 400x500 with 1 Axes>"
            ],
            "image/png": "[encoded data removed]"
          },
          "metadata": {}
        }
      ],
      "source": [
        "fig = plt.figure(figsize=(4,5))\n",
        "ax = fig.add_subplot(1, 1, 1)\n",
        "ax.matshow(1-np.where(y.reshape(7, 5)==-1,0,1), cmap=\"gray\")\n",
        "plt.xticks(np.array([]))\n",
        "plt.yticks(np.array([]))"
      ]
    },
    {
      "cell_type": "markdown",
      "metadata": {
        "id": "UVxdzaTZgsy-"
      },
      "source": [
        "## Odszumianie danych\n",
        "Przygotuj kod zaszumiający wzorce uczące, mutacja piksela z ustalonym prawdopodobieństwem. Przeprowadź eksperymenty pokazujące zdolność sieci Hopfielda od odszumiania danych.\n"
      ]
    },
    {
      "cell_type": "code",
      "source": [
        "# prompt: przygotuj mi teraz odszumianie -mutacja pixela. Przeprowadź eksperyment do odszumiania\n",
        "\n",
        "import numpy as np\n",
        "import matplotlib.pyplot as plt\n",
        "\n",
        "# ... (previous code) ...\n",
        "\n",
        "# ## Odszumianie danych\n",
        "# Przygotuj kod zaszumiający wzorce uczące, mutacja piksela z ustalonym prawdopodobieństwem.\n",
        "# Przeprowadź eksperymenty pokazujące zdolność sieci Hopfielda od odszumiania danych.\n",
        "\n",
        "def add_noise(pattern, noise_probability):\n",
        "    noisy_pattern = pattern.copy()\n",
        "    for i in range(len(noisy_pattern)):\n",
        "        if np.random.rand() < noise_probability:\n",
        "            noisy_pattern[i] = -noisy_pattern[i] # Flip the pixel value\n",
        "    return noisy_pattern\n",
        "\n",
        "\n",
        "noise_probability = 0.1  # Probability of pixel mutation\n",
        "\n",
        "noisy_patterns = []\n",
        "for pattern in train_data2:\n",
        "    noisy_pattern = add_noise(pattern, noise_probability)\n",
        "    noisy_patterns.append(noisy_pattern)\n",
        "\n",
        "# Display noisy patterns\n",
        "plot_images(noisy_patterns, no_r=2, no_c=5)\n",
        "\n",
        "# Test the Hopfield network with noisy input\n",
        "denoised_patterns = []\n",
        "for noisy_pattern in noisy_patterns:\n",
        "    # Flatten the noisy pattern\n",
        "    flattened_pattern = noisy_pattern.flatten()  # Convert to 1D array\n",
        "    denoised_pattern = hop.predict(flattened_pattern)\n",
        "    denoised_patterns.append(denoised_pattern)\n",
        "\n",
        "# Display denoised patterns\n",
        "plot_images(denoised_patterns, no_r=2, no_c=5)\n",
        "\n",
        "\n",
        "# Compare original, noisy, and denoised patterns for a specific digit (e.g., the first one)\n",
        "digit_index = 0\n",
        "fig, axes = plt.subplots(1, 3, figsize=(12, 4))\n",
        "\n",
        "axes[0].imshow(1 - train_data2[digit_index].reshape(7, 5), cmap=\"gray\")\n",
        "axes[0].set_title(\"Original\")\n",
        "axes[0].axis('off')\n",
        "\n",
        "axes[1].imshow(1 - noisy_patterns[digit_index].reshape(7, 5), cmap=\"gray\")\n",
        "axes[1].set_title(f\"Noisy ({int(noise_probability * 100)}% noise)\")\n",
        "axes[1].axis('off')\n",
        "\n",
        "axes[2].imshow(1 - np.where(denoised_patterns[digit_index].reshape(7, 5) == -1, 0, 1), cmap=\"gray\")\n",
        "axes[2].set_title(\"Denoised\")\n",
        "axes[2].axis('off')\n",
        "\n",
        "plt.show()"
      ],
      "metadata": {
        "colab": {
          "base_uri": "https://localhost:8080/",
          "height": 891
        },
        "id": "76YHlhGUFJ39",
        "outputId": "96d70f6f-7f42-49cd-e274-0de2881cf557"
      },
      "execution_count": null,
      "outputs": [
        {
          "output_type": "display_data",
          "data": {
            "text/plain": [
              "<Figure size 400x400 with 10 Axes>"
            ],
            "image/png": "[encoded data removed]"
          },
          "metadata": {}
        },
        {
          "output_type": "display_data",
          "data": {
            "text/plain": [
              "<Figure size 400x400 with 10 Axes>"
            ],
            "image/png": "[encoded data removed]"
          },
          "metadata": {}
        },
        {
          "output_type": "display_data",
          "data": {
            "text/plain": [
              "<Figure size 1200x400 with 3 Axes>"
            ],
            "image/png": "[encoded data removed]"
          },
          "metadata": {}
        }
      ]
    },
    {
      "cell_type": "markdown",
      "metadata": {
        "id": "lm6VrDA_x3ZK"
      },
      "source": [
        "##implementacja sieci Hopfielda obejmuje kilka kluczowych elementów:\n",
        "\n",
        "pseudoinverse_learning(): Metoda uczenia sieci wykorzystująca algorytm pseudoinwersji do ustalania wartości wag. Kluczowe kroki:\n",
        "\n",
        "Normalizacja wzorców do wartości {-1, 1}\n",
        "Obliczenie macierzy pseudoodwrotnej Moore'a-Penrose'a\n",
        "Wyzerowanie diagonali wag (brak połączeń neuronów ze sobą)\n",
        "\n",
        "update_synchroniczny(): Równoczesna aktualizacja wszystkich neuronów\n",
        "\n",
        "Przygotuj klasę relizującą sieć Hopfielda wykorzystując dowolny LLM.\n"
      ]
    },
    {
      "cell_type": "code",
      "source": [
        "import numpy as np\n",
        "\n",
        "class HopfieldNetwork:\n",
        "    def __init__(self, n_neurons):\n",
        "        self.n_neurons = n_neurons\n",
        "        self.weights = np.zeros((n_neurons, n_neurons))\n",
        "\n",
        "    def pseudoinverse_learning(self, patterns):\n",
        "        \"\"\"\n",
        "        Metoda uczenia z użyciem pseudoinwersji\n",
        "\n",
        "        Args:\n",
        "            patterns (np.ndarray): Wzorce treningowe\n",
        "        \"\"\"\n",
        "        # Normalizacja wzorców do wartości {-1, 1}\n",
        "        patterns = np.array(patterns)  # Upewniamy się, że wzorce są w formie numpy array\n",
        "        patterns = np.where(patterns == 0, -1, patterns)  # Zmieniamy 0 na -1\n",
        "\n",
        "        # Reshape patterns to 2D for pseudoinverse calculation\n",
        "        flattened_patterns = patterns.reshape(patterns.shape[0], -1)\n",
        "\n",
        "        # Transpozycja wzorców przed pseudoinwersją\n",
        "        patterns_T = flattened_patterns.T  # Transponujemy wzorce\n",
        "\n",
        "        # Obliczenie pseudoinwersji\n",
        "        pseudo_inv = np.linalg.pinv(flattened_patterns @ patterns_T)  # Pseudoinwersja\n",
        "\n",
        "        # Obliczenie wag\n",
        "        self.weights = patterns_T @ pseudo_inv @ flattened_patterns  # Obliczanie wag\n",
        "\n",
        "        # Wyzerowanie diagonali (brak połączeń neuronów ze sobą)\n",
        "        np.fill_diagonal(self.weights, 0)  # Ustawiamy wszystkie elementy na przekątnej na 0\n",
        "\n",
        "\n",
        "    def update_synchroniczny(self, stan_poczatkowy, max_iteracji=10):\n",
        "        \"\"\"Synchroniczna rekonstrukcja wzorca\"\"\"\n",
        "        stan = stan_poczatkowy.copy()\n",
        "        # Flatten the state before entering the loop\n",
        "        stan = stan.flatten()  # Convert to 1D array\n",
        "\n",
        "        for _ in range(max_iteracji):\n",
        "            stan_poprzedni = stan.copy()\n",
        "            # Obliczamy potencjał dla wszystkich neuronów\n",
        "            potencjaly = np.dot(stan, self.weights)\n",
        "\n",
        "            # Aktualizujemy stany neuronów na podstawie potencjałów\n",
        "            stan = np.where(potencjaly >= 0, 1, -1)\n",
        "\n",
        "            # Sprawdzamy, czy sieć osiągnęła stabilny stan\n",
        "            if np.array_equal(stan, stan_poprzedni):\n",
        "                break\n",
        "\n",
        "        return stan.reshape(stan_poczatkowy.shape) # Reshape back to the original shape\n"
      ],
      "metadata": {
        "id": "-AxzbUwnyQAg"
      },
      "execution_count": null,
      "outputs": []
    },
    {
      "cell_type": "code",
      "execution_count": null,
      "metadata": {
        "id": "ncE4POqCmBJ5"
      },
      "outputs": [],
      "source": [
        "def prepare_digit_patterns(pattern_data):\n",
        "    \"\"\"Przygotowanie wzorców cyfr\"\"\"\n",
        "    patterns = []\n",
        "    labels = []\n",
        "\n",
        "    for digit, pattern in pattern_data.items():\n",
        "        # Zamiana {0,1} na {-1,1}\n",
        "        converted_pattern = np.where(np.array(pattern) > 0, 1, -1)\n",
        "        patterns.append(converted_pattern)\n",
        "        labels.append(digit)\n",
        "\n",
        "    return np.array(patterns), labels"
      ]
    },
    {
      "cell_type": "code",
      "execution_count": null,
      "metadata": {
        "id": "LHFg4JNfmBJ5"
      },
      "outputs": [],
      "source": [
        "# Przygotowanie wzorców\n",
        "patterns, labels = prepare_digit_patterns(pattern_data)\n",
        "\n",
        "# Inicjalizacja sieci\n",
        "network = HopfieldNetwork(len(patterns[0]))\n",
        "\n",
        "# Uczenie sieci\n",
        "network.pseudoinverse_learning(patterns)"
      ]
    },
    {
      "cell_type": "code",
      "source": [
        "import numpy as np\n",
        "import matplotlib.pyplot as plt\n",
        "\n",
        "def visualize_row(patterns, titles, rows=7, cols=5):\n",
        "    \"\"\"\n",
        "    Wyświetla wzorce w jednej linii (rząd) z podpisami.\n",
        "    :param patterns: Lista wzorców do wizualizacji.\n",
        "    :param titles: Lista tytułów dla każdego wzorca.\n",
        "    :param rows: Liczba wierszy w pojedynczym wzorcu.\n",
        "    :param cols: Liczba kolumn w pojedynczym wzorcu.\n",
        "    \"\"\"\n",
        "    num_patterns = len(patterns)\n",
        "    fig, axes = plt.subplots(1, num_patterns, figsize=(num_patterns * 3, 3))\n",
        "\n",
        "    if num_patterns == 1:\n",
        "        axes = [axes]  # Obsługa przypadku pojedynczego obrazu\n",
        "\n",
        "    for i, (pattern, title) in enumerate(zip(patterns, titles)):\n",
        "        pattern_display = pattern.reshape(rows, cols)\n",
        "        axes[i].imshow(pattern_display, cmap='binary')\n",
        "        axes[i].set_title(title, fontsize=10)\n",
        "        axes[i].axis(\"off\")\n",
        "\n",
        "    plt.tight_layout()\n",
        "    plt.show()\n",
        "\n",
        "# Testowanie sieci Hopfielda dla cyfr\n",
        "print(\"Testowanie sieci Hopfielda dla cyfr:\")\n",
        "\n",
        "for i, (pattern, label) in enumerate(zip(patterns, labels)):\n",
        "    # Dodanie małego szumu\n",
        "    noisy_pattern = pattern.copy()\n",
        "    num_noise = len(pattern) // 5  # Zaszumienie 10% neuronów\n",
        "    noise_indices = np.random.choice(len(pattern), num_noise, replace=False)\n",
        "    noisy_pattern[noise_indices] *= -1\n",
        "    # Dodanie szumu poprzez zamianę wartości na losowe (np. -1 lub 1)\n",
        "    #noisy_pattern[noise_indices] = np.random.choice([-1, 1], num_noise)\n",
        "    # Rekonstrukcja\n",
        "    reconstructed = network.update_synchroniczny(noisy_pattern)\n",
        "\n",
        "    # Wizualizacja trzech obrazów w jednym rzędzie\n",
        "    visualize_row(\n",
        "        [pattern, noisy_pattern, reconstructed],\n",
        "        [f'Oryginalny {label}', f'Zaszumiony {label}', f'Rekonstrukcja {label}'],\n",
        "        rows=7, cols=5\n",
        "    )\n",
        "\n",
        "    # Porównanie podobieństwa\n",
        "    similarity = np.mean(reconstructed == pattern)\n",
        "    print(f\"Cyfra {label}: Podobieństwo rekonstrukcji = {similarity*100:.2f}%\")\n",
        "    print(\"-\" * 40)\n"
      ],
      "metadata": {
        "id": "81sitnEYwD57",
        "colab": {
          "base_uri": "https://localhost:8080/",
          "height": 1000
        },
        "outputId": "54c2eaee-1077-42c7-c368-894dbe086e13"
      },
      "execution_count": null,
      "outputs": [
        {
          "output_type": "stream",
          "name": "stdout",
          "text": [
            "Testowanie sieci Hopfielda dla cyfr:\n"
          ]
        },
        {
          "output_type": "display_data",
          "data": {
            "text/plain": [
              "<Figure size 900x300 with 3 Axes>"
            ],
            "image/png": "[encoded data removed]"
          },
          "metadata": {}
        },
        {
          "output_type": "stream",
          "name": "stdout",
          "text": [
            "Cyfra 0: Podobieństwo rekonstrukcji = 97.14%\n",
            "----------------------------------------\n"
          ]
        },
        {
          "output_type": "display_data",
          "data": {
            "text/plain": [
              "<Figure size 900x300 with 3 Axes>"
            ],
            "image/png": "[encoded data removed]"
          },
          "metadata": {}
        },
        {
          "output_type": "stream",
          "name": "stdout",
          "text": [
            "Cyfra 1: Podobieństwo rekonstrukcji = 97.14%\n",
            "----------------------------------------\n"
          ]
        },
        {
          "output_type": "display_data",
          "data": {
            "text/plain": [
              "<Figure size 900x300 with 3 Axes>"
            ],
            "image/png": "[encoded data removed]"
          },
          "metadata": {}
        },
        {
          "output_type": "stream",
          "name": "stdout",
          "text": [
            "Cyfra 2: Podobieństwo rekonstrukcji = 88.57%\n",
            "----------------------------------------\n"
          ]
        },
        {
          "output_type": "display_data",
          "data": {
            "text/plain": [
              "<Figure size 900x300 with 3 Axes>"
            ],
            "image/png": "[encoded data removed]"
          },
          "metadata": {}
        },
        {
          "output_type": "stream",
          "name": "stdout",
          "text": [
            "Cyfra 3: Podobieństwo rekonstrukcji = 88.57%\n",
            "----------------------------------------\n"
          ]
        },
        {
          "output_type": "display_data",
          "data": {
            "text/plain": [
              "<Figure size 900x300 with 3 Axes>"
            ],
            "image/png": "[encoded data removed]"
          },
          "metadata": {}
        },
        {
          "output_type": "stream",
          "name": "stdout",
          "text": [
            "Cyfra 4: Podobieństwo rekonstrukcji = 94.29%\n",
            "----------------------------------------\n"
          ]
        },
        {
          "output_type": "display_data",
          "data": {
            "text/plain": [
              "<Figure size 900x300 with 3 Axes>"
            ],
            "image/png": "[encoded data removed]"
          },
          "metadata": {}
        },
        {
          "output_type": "stream",
          "name": "stdout",
          "text": [
            "Cyfra 5: Podobieństwo rekonstrukcji = 85.71%\n",
            "----------------------------------------\n"
          ]
        },
        {
          "output_type": "display_data",
          "data": {
            "text/plain": [
              "<Figure size 900x300 with 3 Axes>"
            ],
            "image/png": "[encoded data removed]"
          },
          "metadata": {}
        },
        {
          "output_type": "stream",
          "name": "stdout",
          "text": [
            "Cyfra 6: Podobieństwo rekonstrukcji = 85.71%\n",
            "----------------------------------------\n"
          ]
        },
        {
          "output_type": "display_data",
          "data": {
            "text/plain": [
              "<Figure size 900x300 with 3 Axes>"
            ],
            "image/png": "[encoded data removed]"
          },
          "metadata": {}
        },
        {
          "output_type": "stream",
          "name": "stdout",
          "text": [
            "Cyfra 7: Podobieństwo rekonstrukcji = 91.43%\n",
            "----------------------------------------\n"
          ]
        },
        {
          "output_type": "display_data",
          "data": {
            "text/plain": [
              "<Figure size 900x300 with 3 Axes>"
            ],
            "image/png": "[encoded data removed]"
          },
          "metadata": {}
        },
        {
          "output_type": "stream",
          "name": "stdout",
          "text": [
            "Cyfra 8: Podobieństwo rekonstrukcji = 100.00%\n",
            "----------------------------------------\n"
          ]
        },
        {
          "output_type": "display_data",
          "data": {
            "text/plain": [
              "<Figure size 900x300 with 3 Axes>"
            ],
            "image/png": "[encoded data removed]"
          },
          "metadata": {}
        },
        {
          "output_type": "stream",
          "name": "stdout",
          "text": [
            "Cyfra 9: Podobieństwo rekonstrukcji = 88.57%\n",
            "----------------------------------------\n"
          ]
        }
      ]
    }
  ],
  "metadata": {
    "colab": {
      "provenance": []
    },
    "kernelspec": {
      "display_name": "Python 3",
      "language": "python",
      "name": "python3"
    },
    "language_info": {
      "codemirror_mode": {
        "name": "ipython",
        "version": 3
      },
      "file_extension": ".py",
      "mimetype": "text/x-python",
      "name": "python",
      "nbconvert_exporter": "python",
      "pygments_lexer": "ipython3",
      "version": "3.8.10"
    }
  },
  "nbformat": 4,
  "nbformat_minor": 0
}