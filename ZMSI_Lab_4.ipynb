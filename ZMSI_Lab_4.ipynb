{
  "cells": [
    {
      "cell_type": "markdown",
      "metadata": {
        "id": "DBXxErK07vQA"
      },
      "source": [
        "<center>\n",
        "    <font size=\"5\"> Zaawansowane Metody Sztucznej Inteligencji<br/>\n",
        "        <small><em>Studia stacjonarne II stopnia 2024/2025</em><br/>Kierunek: Informatyka</small>\n",
        "    </font>\n",
        "</center>\n",
        "<br>\n",
        "\n"
      ]
    },
    {
      "cell_type": "markdown",
      "metadata": {
        "id": "gWaTBVeDKX_7"
      },
      "source": [
        "# Laboratorium nr 4: Konwolucyjne sieci neuronowe: Klasyfikacji obrazów"
      ]
    },
    {
      "cell_type": "markdown",
      "source": [
        "Przed rozpoczęciem pracy z notatnikiem zmień jego nazwę zgodnie z wzorem: `NrAlbumu_Nazwisko_Imie_PoprzedniaNazwa`.\n",
        "\n",
        "Przed wysłaniem notatnika upewnij się, że rozwiązałeś wszystkie zadania/ćwiczenia."
      ],
      "metadata": {
        "id": "oZ1PLLGQ9-vU"
      }
    },
    {
      "cell_type": "markdown",
      "metadata": {
        "id": "80MLD8g9BLgo"
      },
      "source": [
        "## Import bibliotek"
      ]
    },
    {
      "cell_type": "code",
      "execution_count": null,
      "metadata": {
        "id": "Nch5dQKB6gPb",
        "vscode": {
          "languageId": "python"
        }
      },
      "outputs": [],
      "source": [
        "import numpy as np\n",
        "import matplotlib.pyplot as plt\n",
        "import tensorflow as tf\n",
        "print('Numpy version:', np.__version__)\n",
        "print('Tensorflow version:', tf.__version__)"
      ]
    },
    {
      "cell_type": "markdown",
      "metadata": {
        "id": "O6xS51dbEf53"
      },
      "source": [
        "## Baza MNIST\n",
        "\n",
        "- Baza MNIST zawiera zbiór trenujący składający się z 60,000 przykładów skanów ręcznie pisanych cyfr od 0 do 9 (problem klasyfikacyjny z 10 klasami).\n",
        "- Zbiór testowy zawiera 10,000 przykładów.\n",
        "- Każdy obraz ma rozmiar 28x28 pikseli. Stanowią one 28 * 28 = 784 wejść do sieci.\n",
        "- W zagadnieniach rozpoznawania obrazów baza MNIST pełni rolę swoistego problemu `Hello world`.\n",
        "\n",
        "#### Pobieranie bazy MNIST\n",
        "- Bazę MNIST można pobrać bespośrednio ze strony http://yann.lecun.com/exdb/mnist/\n",
        "- Najwygodniej jednak jest użyć bazy MNIST z wykorzystaniem biblioteki Keras"
      ]
    },
    {
      "cell_type": "code",
      "execution_count": null,
      "metadata": {
        "id": "BZ_Ic-3bEN3I",
        "vscode": {
          "languageId": "python"
        }
      },
      "outputs": [],
      "source": [
        "(train_images, train_labels), (test_images, test_labels) = tf.keras.datasets.mnist.load_data()\n",
        "print(train_images.shape, train_labels.shape, test_images.shape, test_labels.shape)\n",
        "train_images = np.expand_dims(train_images, axis=-1)/255.\n",
        "train_labels = np.int64(train_labels)\n",
        "test_images = np.expand_dims(test_images, axis=-1)/255.\n",
        "test_labels = np.int64(test_labels)\n",
        "print(train_images.shape, train_labels.shape, test_images.shape, test_labels.shape)"
      ]
    },
    {
      "cell_type": "markdown",
      "metadata": {
        "id": "rUb3wQCxGve_"
      },
      "source": [
        "Przykładowe cyfry:"
      ]
    },
    {
      "cell_type": "code",
      "execution_count": null,
      "metadata": {
        "id": "7nV6uNb8GkkV",
        "vscode": {
          "languageId": "python"
        }
      },
      "outputs": [],
      "source": [
        "plt.figure(figsize=(10,10))\n",
        "random_inds = np.random.choice(60000, 36)\n",
        "for i in range(36):\n",
        "    plt.subplot(6,6,i+1)\n",
        "    plt.xticks([])\n",
        "    plt.yticks([])\n",
        "    plt.grid(False)\n",
        "    image_ind = random_inds[i]\n",
        "    plt.imshow(np.squeeze(train_images[image_ind]), cmap=plt.cm.binary)\n",
        "    plt.xlabel(train_labels[image_ind])"
      ]
    },
    {
      "cell_type": "markdown",
      "metadata": {
        "id": "juLIG7RcNZ0y"
      },
      "source": [
        "## Sieć wielowarstwowa"
      ]
    },
    {
      "cell_type": "markdown",
      "metadata": {
        "id": "XkZLE9ciNjkZ"
      },
      "source": [
        "### Tworzenie modelu"
      ]
    },
    {
      "cell_type": "markdown",
      "metadata": {
        "id": "Q9G_9Q1WJZW9"
      },
      "source": [
        "#### Ćwiczenie 1:\n",
        "Sieć pełnych połączeń\n",
        "- Stwórz w bibliotece keras model klasycznej sieci wielowarstwowej z dwiema warstwami ukrytymi.\n",
        "- Dla pierwszej warstwy ustaw liczbę 128 neuronów\n",
        "- Dla drugie warstwy liczbę neuronów odpowiedającą liczbie klas.\n",
        "- Dobierz odpowiednie funkcje aktywacji."
      ]
    },
    {
      "cell_type": "code",
      "execution_count": null,
      "metadata": {
        "id": "7Rknc_zwLv4a",
        "vscode": {
          "languageId": "python"
        }
      },
      "outputs": [],
      "source": [
        "from tensorflow.keras import Model\n",
        "from tensorflow.keras.layers import Input, Dense, Flatten"
      ]
    },
    {
      "cell_type": "code",
      "execution_count": null,
      "metadata": {
        "id": "5GD9_L4AHzD4",
        "vscode": {
          "languageId": "python"
        }
      },
      "outputs": [],
      "source": [
        "def fc_model():\n",
        "    x = Input(shape=(28,28,1))\n",
        "    xf = Flatten()(x)\n",
        "    #TODO:,\n",
        "\n",
        "model = fc_model()\n",
        "model.summary()"
      ]
    },
    {
      "cell_type": "markdown",
      "metadata": {
        "id": "J5ED63RRNqHw"
      },
      "source": [
        "### Kompilacja"
      ]
    },
    {
      "cell_type": "markdown",
      "metadata": {
        "id": "wRHN_qMCmCoW"
      },
      "source": [
        "#### Ćwiczenie 2:\n",
        "Skompiluj model ustawiając:\n",
        "- funkcje straty: `sparse_categorical_crossentropy`\n",
        "- algorytm optymalizacji: np. `SGD`\n",
        "- metryki monitorujące proces uczenia: `accuracy`"
      ]
    },
    {
      "cell_type": "code",
      "execution_count": null,
      "metadata": {
        "id": "XSTXHgIfM9Ga",
        "vscode": {
          "languageId": "python"
        }
      },
      "outputs": [],
      "source": [
        "#TODO:"
      ]
    },
    {
      "cell_type": "markdown",
      "metadata": {
        "id": "A9TVTP56TjdZ"
      },
      "source": [
        "### Trenowanie\n",
        "Trenowanie z wykorzystaniem podziału na dane uczące i walidacyjne, oraz `ModelCheckpoint`, czylu zapisywanie najlepszego modelu"
      ]
    },
    {
      "cell_type": "code",
      "execution_count": null,
      "metadata": {
        "id": "88icPjgbOBA0",
        "vscode": {
          "languageId": "python"
        }
      },
      "outputs": [],
      "source": [
        "from tensorflow.keras.callbacks import ModelCheckpoint"
      ]
    },
    {
      "cell_type": "code",
      "execution_count": null,
      "metadata": {
        "id": "5JvwsS-4Tif3",
        "vscode": {
          "languageId": "python"
        }
      },
      "outputs": [],
      "source": [
        "# aby zapisać model na Google Drive podaj odpowiednią ścieżkę\n",
        "cb = [ModelCheckpoint('model_fc_mnist.keras', monitor='val_accuracy', save_best_only=True)]"
      ]
    },
    {
      "cell_type": "code",
      "execution_count": null,
      "metadata": {
        "id": "TQWddwwgUWS0",
        "vscode": {
          "languageId": "python"
        }
      },
      "outputs": [],
      "source": [
        "BATCH_SIZE = 64\n",
        "EPOCHS = 20"
      ]
    },
    {
      "cell_type": "code",
      "execution_count": null,
      "metadata": {
        "id": "UsA9z2ucPpQz",
        "vscode": {
          "languageId": "python"
        }
      },
      "outputs": [],
      "source": [
        "#TODO:"
      ]
    },
    {
      "cell_type": "markdown",
      "metadata": {
        "id": "9gmGXO04ZxJa"
      },
      "source": [
        "### Ewaluacja zbioru testowego"
      ]
    },
    {
      "cell_type": "code",
      "execution_count": null,
      "metadata": {
        "id": "T--rmcMYWRbr",
        "vscode": {
          "languageId": "python"
        }
      },
      "outputs": [],
      "source": [
        "#TODO:"
      ]
    },
    {
      "cell_type": "markdown",
      "metadata": {
        "id": "bePTvAJEaOjQ"
      },
      "source": [
        "Model z pliku"
      ]
    },
    {
      "cell_type": "code",
      "execution_count": null,
      "metadata": {
        "id": "Rq27w4rFaJEr",
        "vscode": {
          "languageId": "python"
        }
      },
      "outputs": [],
      "source": [
        "fmodel = tf.keras.models.load_model('model_fc_mnist.keras')\n",
        "fmodel.evaluate(test_images, test_labels)"
      ]
    },
    {
      "cell_type": "code",
      "execution_count": null,
      "metadata": {
        "id": "KkwHexlIPXJ8"
      },
      "outputs": [],
      "source": [
        "from sklearn.metrics import confusion_matrix, ConfusionMatrixDisplay"
      ]
    },
    {
      "cell_type": "code",
      "execution_count": null,
      "metadata": {
        "id": "u_NGQJAbPXT7"
      },
      "outputs": [],
      "source": [
        "predictions = fmodel.predict(test_images)\n",
        "predictions = np.argmax(predictions, axis=1)\n",
        "cm = confusion_matrix(test_labels, predictions)\n",
        "disp = ConfusionMatrixDisplay(confusion_matrix=cm)\n",
        "disp.plot()\n",
        "plt.show()"
      ]
    },
    {
      "cell_type": "markdown",
      "metadata": {
        "id": "OaTf12xdar2z"
      },
      "source": [
        "## Najlepsze wyniki dla bazy MNIST\n",
        "http://rodrigob.github.io/are_we_there_yet/build/classification_datasets_results.html#4d4e495354"
      ]
    },
    {
      "cell_type": "markdown",
      "metadata": {
        "id": "Kpemw99cUGzy"
      },
      "source": [
        "## Sieć konwolucyjna"
      ]
    },
    {
      "cell_type": "markdown",
      "metadata": {
        "id": "HAiwdCZcUVkG"
      },
      "source": [
        "### Prosty model"
      ]
    },
    {
      "cell_type": "markdown",
      "metadata": {
        "id": "XseniZTmsQUx"
      },
      "source": [
        "#### Ćwiczenie 3:\n",
        "\n",
        "- Stwórz w bibliotece keras model prostej sieci konwolucyjnej z 1 warstwą conwolucyjną, 1 warstwą MaxPooling i warstwami klasyfikacyjnymi jak w poprzednim modelu."
      ]
    },
    {
      "cell_type": "code",
      "execution_count": null,
      "metadata": {
        "id": "B92l9P8jt1Ih",
        "vscode": {
          "languageId": "python"
        }
      },
      "outputs": [],
      "source": [
        "from tensorflow.keras.layers import Conv2D, MaxPool2D, Dropout"
      ]
    },
    {
      "cell_type": "code",
      "execution_count": null,
      "metadata": {
        "id": "nVeSXWmraeER",
        "vscode": {
          "languageId": "python"
        }
      },
      "outputs": [],
      "source": [
        "def conv_model():\n",
        "    x = Input(shape=(28,28,1))\n",
        "    #TODO:\n",
        "\n",
        "model = conv_model()\n",
        "model.summary()"
      ]
    },
    {
      "cell_type": "markdown",
      "metadata": {
        "id": "Kty4mVuxVHGA"
      },
      "source": [
        "### Kompilacja i trenowanie"
      ]
    },
    {
      "cell_type": "markdown",
      "metadata": {
        "id": "gr90NGsQvyZL"
      },
      "source": [
        "#### Ćwiczenie 4:\n",
        "- Skompiluj i wytrenuj model ustawiając parametry jak przy sieci wielowarstwowej."
      ]
    },
    {
      "cell_type": "code",
      "execution_count": null,
      "metadata": {
        "id": "eapd9Wa0fBs_",
        "vscode": {
          "languageId": "python"
        }
      },
      "outputs": [],
      "source": [
        "#TODO:"
      ]
    },
    {
      "cell_type": "code",
      "execution_count": null,
      "metadata": {
        "id": "-_5ZGvuNba8M",
        "vscode": {
          "languageId": "python"
        }
      },
      "outputs": [],
      "source": [
        "cb = [ModelCheckpoint('model_conv_mnist.keras', monitor='val_accuracy', save_best_only=True)]"
      ]
    },
    {
      "cell_type": "code",
      "execution_count": null,
      "metadata": {
        "id": "myCmH9L5wKt2",
        "vscode": {
          "languageId": "python"
        }
      },
      "outputs": [],
      "source": [
        "#TODO FIT:"
      ]
    },
    {
      "cell_type": "markdown",
      "metadata": {
        "id": "iCNFCua7wUaX"
      },
      "source": [
        "### Ewaluacja zbioru testowego"
      ]
    },
    {
      "cell_type": "code",
      "execution_count": null,
      "metadata": {
        "id": "nOrzDv-1wcG8",
        "vscode": {
          "languageId": "python"
        }
      },
      "outputs": [],
      "source": [
        "#TODO:"
      ]
    },
    {
      "cell_type": "markdown",
      "metadata": {
        "id": "Z5iVWJRqBVbe"
      },
      "source": [
        "Model z pliku"
      ]
    },
    {
      "cell_type": "code",
      "execution_count": null,
      "metadata": {
        "id": "I_rq6mIecF15",
        "vscode": {
          "languageId": "python"
        }
      },
      "outputs": [],
      "source": [
        "fmodel = tf.keras.models.load_model('model_conv_mnist.keras')\n",
        "fmodel.evaluate(test_images, test_labels)"
      ]
    },
    {
      "cell_type": "markdown",
      "metadata": {
        "id": "yaGJOqEjxN_S"
      },
      "source": [
        "## Ćwiczenie 5:\n",
        "Zdefiniuj, wytrenuj i przetestuj model sieci konwolucyjnej jak na rysunku:\n",
        "![convnet](http://torus.uck.pk.edu.pl/~amarsz/images/zmum/cw5.PNG)"
      ]
    },
    {
      "cell_type": "code",
      "execution_count": null,
      "metadata": {
        "id": "bHR3ajbtCWan",
        "vscode": {
          "languageId": "python"
        }
      },
      "outputs": [],
      "source": [
        "\n",
        "def conv_model():\n",
        "    x = Input(shape=(28,28,1))\n",
        "    #TODO:\n",
        "model = conv_model()\n",
        "model.summary()"
      ]
    },
    {
      "cell_type": "code",
      "execution_count": null,
      "metadata": {
        "id": "DDPC3gUJCkpJ",
        "vscode": {
          "languageId": "python"
        }
      },
      "outputs": [],
      "source": [
        "model.compile(loss='sparse_categorical_crossentropy', optimizer='sgd', metrics=['accuracy'])"
      ]
    },
    {
      "cell_type": "code",
      "execution_count": null,
      "metadata": {
        "id": "eX_TW1Wm2BmJ",
        "vscode": {
          "languageId": "python"
        }
      },
      "outputs": [],
      "source": [
        "cb = [ModelCheckpoint('model_conv2_mnist.keras', monitor='val_accuracy', save_best_only=True)]"
      ]
    },
    {
      "cell_type": "code",
      "execution_count": null,
      "metadata": {
        "id": "UrCz-yIR2Gd7",
        "vscode": {
          "languageId": "python"
        }
      },
      "outputs": [],
      "source": [
        "model.fit(train_images, train_labels, batch_size=BATCH_SIZE, epochs=20, validation_split=0.2, callbacks=cb)"
      ]
    },
    {
      "cell_type": "code",
      "execution_count": null,
      "metadata": {
        "id": "E9woaHR8u2E0"
      },
      "outputs": [],
      "source": [
        "fmodel = tf.keras.models.load_model('model_conv2_mnist.keras')\n",
        "fmodel.evaluate(test_images, test_labels)"
      ]
    },
    {
      "cell_type": "code",
      "execution_count": null,
      "metadata": {
        "id": "bw8RoVjzUiip"
      },
      "outputs": [],
      "source": [
        "predictions = fmodel.predict(test_images)\n",
        "predictions = np.argmax(predictions, axis=1)\n",
        "cm = confusion_matrix(test_labels, predictions)\n",
        "disp = ConfusionMatrixDisplay(confusion_matrix=cm)\n",
        "disp.plot()\n",
        "plt.show()"
      ]
    },
    {
      "cell_type": "markdown",
      "metadata": {
        "id": "lWuxlK_O2qqU"
      },
      "source": [
        "## Wizualizacja Predykcji\n",
        "Za pomocą poniższych funkcji zwizualizuj wyniki predykcj modelu z ćwiczenia 5 na zbiorze testowym."
      ]
    },
    {
      "cell_type": "code",
      "execution_count": null,
      "metadata": {
        "id": "_j4Mm5ZU2sYi",
        "vscode": {
          "languageId": "python"
        }
      },
      "outputs": [],
      "source": [
        "def plot_image(i, predictions_array, true_label, img):\n",
        "    predictions_array, true_label, img = predictions_array[i], true_label[i], img[i]\n",
        "    plt.grid(False)\n",
        "    plt.xticks([])\n",
        "    plt.yticks([])\n",
        "\n",
        "    plt.imshow(np.squeeze(img), cmap=plt.cm.binary)\n",
        "\n",
        "    predicted_label = np.argmax(predictions_array)\n",
        "    if predicted_label == true_label:\n",
        "        color = 'blue'\n",
        "    else:\n",
        "        color = 'red'\n",
        "\n",
        "    plt.xlabel(\"{} {:2.0f}% ({})\".format(predicted_label,\n",
        "                                         100*np.max(predictions_array),\n",
        "                                         true_label), color=color)\n",
        "\n",
        "def plot_value_array(i, predictions_array, true_label):\n",
        "    predictions_array, true_label = predictions_array[i], true_label[i]\n",
        "    plt.grid(False)\n",
        "    plt.xticks([])\n",
        "    plt.yticks([])\n",
        "    thisplot = plt.bar(range(10), predictions_array, color=\"#777777\")\n",
        "    plt.ylim([0, 1])\n",
        "    predicted_label = np.argmax(predictions_array)\n",
        "\n",
        "    thisplot[predicted_label].set_color('red')\n",
        "    thisplot[true_label].set_color('blue')"
      ]
    },
    {
      "cell_type": "code",
      "execution_count": null,
      "metadata": {
        "id": "QaMAy5Bf27LT",
        "vscode": {
          "languageId": "python"
        }
      },
      "outputs": [],
      "source": [
        "predictions = fmodel.predict(test_images)"
      ]
    },
    {
      "cell_type": "code",
      "execution_count": null,
      "metadata": {
        "id": "yQIser852wqF",
        "vscode": {
          "languageId": "python"
        }
      },
      "outputs": [],
      "source": [
        "#TODO:"
      ]
    },
    {
      "cell_type": "markdown",
      "metadata": {
        "id": "hyUUDpzj29zQ"
      },
      "source": [
        "## Wizualizacja filtrów i map cech\n",
        "Zwizualizuj filtry w pierwszej warstwie konwolucyjnej oraz mapy cech powstałe po pierwszej warstwie konwolucyjnej"
      ]
    },
    {
      "cell_type": "code",
      "execution_count": null,
      "metadata": {
        "id": "lj4ZnCTx3NV9"
      },
      "outputs": [],
      "source": [
        "lc1 = fmodel.layers[1]"
      ]
    },
    {
      "cell_type": "code",
      "execution_count": null,
      "metadata": {
        "id": "4HjN05WxJPzf"
      },
      "outputs": [],
      "source": [
        "wc1 = lc1.weights[0]"
      ]
    },
    {
      "cell_type": "code",
      "execution_count": null,
      "metadata": {
        "id": "K9jD_jk2JfJQ"
      },
      "outputs": [],
      "source": [
        "plt.figure(figsize=(5,5))\n",
        "random_inds = np.random.choice(60000, 36)\n",
        "for i in range(24):\n",
        "    plt.subplot(6,4,i+1)\n",
        "    plt.xticks([])\n",
        "    plt.yticks([])\n",
        "    plt.grid(False)\n",
        "    image_ind = wc1[:,:,:,i]\n",
        "    plt.imshow(np.squeeze(image_ind), cmap=plt.cm.binary)"
      ]
    },
    {
      "cell_type": "code",
      "execution_count": null,
      "metadata": {
        "id": "D1O2mrhaKD_E"
      },
      "outputs": [],
      "source": [
        "mc1 = Model(inputs=fmodel.input, outputs=fmodel.layers[1].output)"
      ]
    },
    {
      "cell_type": "code",
      "execution_count": null,
      "metadata": {
        "id": "WMw_6ad8LKQ_"
      },
      "outputs": [],
      "source": [
        "pred = mc1.predict(test_images[10:11])[0]"
      ]
    },
    {
      "cell_type": "code",
      "execution_count": null,
      "metadata": {
        "id": "e2FUDB_nLYdB"
      },
      "outputs": [],
      "source": [
        "pred.shape"
      ]
    },
    {
      "cell_type": "code",
      "execution_count": null,
      "metadata": {
        "id": "VSK4Up1CLfHA"
      },
      "outputs": [],
      "source": [
        "plt.figure(figsize=(5,5))\n",
        "for i in range(24):\n",
        "    plt.subplot(6,4,i+1)\n",
        "    plt.xticks([])\n",
        "    plt.yticks([])\n",
        "    plt.grid(False)\n",
        "    image_ind = pred[:,:,i]\n",
        "    if i ==0:\n",
        "        plt.imshow(np.squeeze(test_images[10:11]), cmap=plt.cm.binary)\n",
        "    else:\n",
        "        plt.imshow(np.squeeze(image_ind), cmap=plt.cm.binary)"
      ]
    },
    {
      "cell_type": "code",
      "execution_count": null,
      "metadata": {
        "id": "Y3jOq_vYLr2R"
      },
      "outputs": [],
      "source": []
    }
  ],
  "metadata": {
    "accelerator": "GPU",
    "colab": {
      "provenance": []
    },
    "kernelspec": {
      "display_name": "Python 3 (ipykernel)",
      "language": "python",
      "name": "python3"
    },
    "language_info": {
      "codemirror_mode": {
        "name": "ipython",
        "version": 3
      },
      "file_extension": ".py",
      "mimetype": "text/x-python",
      "name": "python",
      "nbconvert_exporter": "python",
      "pygments_lexer": "ipython3",
      "version": "3.9.7"
    }
  },
  "nbformat": 4,
  "nbformat_minor": 0
}